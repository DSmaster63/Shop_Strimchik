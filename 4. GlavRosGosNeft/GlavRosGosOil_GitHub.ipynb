{
 "cells": [
  {
   "cell_type": "markdown",
   "metadata": {},
   "source": [
    "# Выбор локации для скважины"
   ]
  },
  {
   "cell_type": "markdown",
   "metadata": {},
   "source": [
    "Есть добывающая компания «ГлавРосГосНефть». Нужно решить, где бурить новую скважину.\n",
    "____\n",
    "\n",
    "**Описание данных:** Предоставлены пробы нефти в трёх регионах: в каждом 10 000 месторождений, где измерили качество нефти и объём её запасов.\n",
    "\n",
    "**Признаки:**\n",
    "\n",
    "* **id** — уникальный идентификатор скважины;\n",
    "* **f0, f1, f2** — три признака точек (неважно, что они означают, но сами признаки значимы);\n",
    "* **product** — объём запасов в скважине (тыс. баррелей).\n",
    "____\n",
    "\n",
    "**Задача:** Построить модель машинного обучения, которая поможет определить регион, где добыча принесёт наибольшую прибыль. Проанализировать возможную прибыль и риски техникой *Bootstrap.*\n",
    "____\n",
    "\n",
    "**Цель:** Найти наилучший регион для бурения новой скважины. \n",
    "____\n",
    "\n",
    "**Шаги для выбора локации:**\n",
    "\n",
    "- В избранном регионе ищут месторождения, для каждого определяют значения признаков;\n",
    "- Строят модель и оценивают объём запасов;\n",
    "- Выбирают месторождения с самым высокими оценками значений. Количество месторождений зависит от бюджета компании и стоимости разработки одной скважины;\n",
    "- Прибыль равна суммарной прибыли отобранных месторождений.\n",
    "____\n",
    "\n",
    "**Содержание:**\n",
    "1. [Загрузка и подготовка данных](#1)\n",
    "2. [Обучение и проверка модели](#2)\n",
    "3. [Подготовка к расчету прибыли](#3)\n",
    "4. [Расчет прибыли и рисков](#4)\n",
    "5. [Общие выводы](#5)"
   ]
  },
  {
   "cell_type": "markdown",
   "metadata": {},
   "source": [
    "## <a id=1>Загрузка и подготовка данных</a>"
   ]
  },
  {
   "cell_type": "code",
   "execution_count": 2,
   "metadata": {},
   "outputs": [],
   "source": [
    "#Подгружаем необходимые библиотеки для работы с данными и машинного обучения\n",
    "import warnings\n",
    "import timeit\n",
    "import pandas as pd \n",
    "from sklearn.linear_model import LinearRegression\n",
    "from sklearn.metrics import (mean_absolute_error,\n",
    "                             mean_squared_error,\n",
    "                             f1_score, \n",
    "                             roc_curve, \n",
    "                             roc_auc_score, \n",
    "                             confusion_matrix)\n",
    "from sklearn.utils import shuffle\n",
    "from sklearn.model_selection import train_test_split\n",
    "from sklearn.preprocessing import StandardScaler, OneHotEncoder\n",
    "from statsmodels.stats.outliers_influence import variance_inflation_factor\n",
    "from scipy import stats as st\n",
    "\n",
    "#Подгружаем дополнительные полезные библиотеки\n",
    "import matplotlib.pyplot as plt\n",
    "import seaborn as sns\n",
    "import numpy as np"
   ]
  },
  {
   "cell_type": "code",
   "execution_count": 3,
   "metadata": {},
   "outputs": [],
   "source": [
    "#Уберем warnings, чтобы не мешали\n",
    "warnings.filterwarnings(\"ignore\")"
   ]
  },
  {
   "cell_type": "code",
   "execution_count": 4,
   "metadata": {},
   "outputs": [],
   "source": [
    "#Загружаем файлы с данными\n",
    "try:\n",
    "    data0= pd.read_csv('C:/Users/kiril/OneDrive/Рабочий стол/Практикум/Проекты/Спринт 8. Машинное обучение в бизнесе/geo_data_0.csv')\n",
    "    data1= pd.read_csv('C:/Users/kiril/OneDrive/Рабочий стол/Практикум/Проекты/Спринт 8. Машинное обучение в бизнесе/geo_data_1.csv')\n",
    "    data2= pd.read_csv('C:/Users/kiril/OneDrive/Рабочий стол/Практикум/Проекты/Спринт 8. Машинное обучение в бизнесе/geo_data_2.csv')\n",
    "except:\n",
    "    data0 = pd.read_csv('/datasets/geo_data_0.csv')\n",
    "    data1 = pd.read_csv('/datasets/geo_data_1.csv')\n",
    "    data2 = pd.read_csv('/datasets/geo_data_2.csv')"
   ]
  },
  {
   "cell_type": "code",
   "execution_count": 5,
   "metadata": {},
   "outputs": [
    {
     "data": {
      "text/html": [
       "<div>\n",
       "<style scoped>\n",
       "    .dataframe tbody tr th:only-of-type {\n",
       "        vertical-align: middle;\n",
       "    }\n",
       "\n",
       "    .dataframe tbody tr th {\n",
       "        vertical-align: top;\n",
       "    }\n",
       "\n",
       "    .dataframe thead th {\n",
       "        text-align: right;\n",
       "    }\n",
       "</style>\n",
       "<table border=\"1\" class=\"dataframe\">\n",
       "  <thead>\n",
       "    <tr style=\"text-align: right;\">\n",
       "      <th></th>\n",
       "      <th>id</th>\n",
       "      <th>f0</th>\n",
       "      <th>f1</th>\n",
       "      <th>f2</th>\n",
       "      <th>product</th>\n",
       "    </tr>\n",
       "  </thead>\n",
       "  <tbody>\n",
       "    <tr>\n",
       "      <th>0</th>\n",
       "      <td>txEyH</td>\n",
       "      <td>0.705745</td>\n",
       "      <td>-0.497823</td>\n",
       "      <td>1.221170</td>\n",
       "      <td>105.280062</td>\n",
       "    </tr>\n",
       "    <tr>\n",
       "      <th>1</th>\n",
       "      <td>2acmU</td>\n",
       "      <td>1.334711</td>\n",
       "      <td>-0.340164</td>\n",
       "      <td>4.365080</td>\n",
       "      <td>73.037750</td>\n",
       "    </tr>\n",
       "    <tr>\n",
       "      <th>2</th>\n",
       "      <td>409Wp</td>\n",
       "      <td>1.022732</td>\n",
       "      <td>0.151990</td>\n",
       "      <td>1.419926</td>\n",
       "      <td>85.265647</td>\n",
       "    </tr>\n",
       "    <tr>\n",
       "      <th>3</th>\n",
       "      <td>iJLyR</td>\n",
       "      <td>-0.032172</td>\n",
       "      <td>0.139033</td>\n",
       "      <td>2.978566</td>\n",
       "      <td>168.620776</td>\n",
       "    </tr>\n",
       "    <tr>\n",
       "      <th>4</th>\n",
       "      <td>Xdl7t</td>\n",
       "      <td>1.988431</td>\n",
       "      <td>0.155413</td>\n",
       "      <td>4.751769</td>\n",
       "      <td>154.036647</td>\n",
       "    </tr>\n",
       "    <tr>\n",
       "      <th>5</th>\n",
       "      <td>wX4Hy</td>\n",
       "      <td>0.969570</td>\n",
       "      <td>0.489775</td>\n",
       "      <td>-0.735383</td>\n",
       "      <td>64.741541</td>\n",
       "    </tr>\n",
       "    <tr>\n",
       "      <th>6</th>\n",
       "      <td>tL6pL</td>\n",
       "      <td>0.645075</td>\n",
       "      <td>0.530656</td>\n",
       "      <td>1.780266</td>\n",
       "      <td>49.055285</td>\n",
       "    </tr>\n",
       "    <tr>\n",
       "      <th>7</th>\n",
       "      <td>BYPU6</td>\n",
       "      <td>-0.400648</td>\n",
       "      <td>0.808337</td>\n",
       "      <td>-5.624670</td>\n",
       "      <td>72.943292</td>\n",
       "    </tr>\n",
       "    <tr>\n",
       "      <th>8</th>\n",
       "      <td>j9Oui</td>\n",
       "      <td>0.643105</td>\n",
       "      <td>-0.551583</td>\n",
       "      <td>2.372141</td>\n",
       "      <td>113.356160</td>\n",
       "    </tr>\n",
       "    <tr>\n",
       "      <th>9</th>\n",
       "      <td>OLuZU</td>\n",
       "      <td>2.173381</td>\n",
       "      <td>0.563698</td>\n",
       "      <td>9.441852</td>\n",
       "      <td>127.910945</td>\n",
       "    </tr>\n",
       "  </tbody>\n",
       "</table>\n",
       "</div>"
      ],
      "text/plain": [
       "      id        f0        f1        f2     product\n",
       "0  txEyH  0.705745 -0.497823  1.221170  105.280062\n",
       "1  2acmU  1.334711 -0.340164  4.365080   73.037750\n",
       "2  409Wp  1.022732  0.151990  1.419926   85.265647\n",
       "3  iJLyR -0.032172  0.139033  2.978566  168.620776\n",
       "4  Xdl7t  1.988431  0.155413  4.751769  154.036647\n",
       "5  wX4Hy  0.969570  0.489775 -0.735383   64.741541\n",
       "6  tL6pL  0.645075  0.530656  1.780266   49.055285\n",
       "7  BYPU6 -0.400648  0.808337 -5.624670   72.943292\n",
       "8  j9Oui  0.643105 -0.551583  2.372141  113.356160\n",
       "9  OLuZU  2.173381  0.563698  9.441852  127.910945"
      ]
     },
     "execution_count": 5,
     "metadata": {},
     "output_type": "execute_result"
    }
   ],
   "source": [
    "#Проверяем каждый из них\n",
    "data0.head(10)"
   ]
  },
  {
   "cell_type": "code",
   "execution_count": 6,
   "metadata": {
    "scrolled": true
   },
   "outputs": [
    {
     "data": {
      "text/html": [
       "<div>\n",
       "<style scoped>\n",
       "    .dataframe tbody tr th:only-of-type {\n",
       "        vertical-align: middle;\n",
       "    }\n",
       "\n",
       "    .dataframe tbody tr th {\n",
       "        vertical-align: top;\n",
       "    }\n",
       "\n",
       "    .dataframe thead th {\n",
       "        text-align: right;\n",
       "    }\n",
       "</style>\n",
       "<table border=\"1\" class=\"dataframe\">\n",
       "  <thead>\n",
       "    <tr style=\"text-align: right;\">\n",
       "      <th></th>\n",
       "      <th>id</th>\n",
       "      <th>f0</th>\n",
       "      <th>f1</th>\n",
       "      <th>f2</th>\n",
       "      <th>product</th>\n",
       "    </tr>\n",
       "  </thead>\n",
       "  <tbody>\n",
       "    <tr>\n",
       "      <th>0</th>\n",
       "      <td>kBEdx</td>\n",
       "      <td>-15.001348</td>\n",
       "      <td>-8.276000</td>\n",
       "      <td>-0.005876</td>\n",
       "      <td>3.179103</td>\n",
       "    </tr>\n",
       "    <tr>\n",
       "      <th>1</th>\n",
       "      <td>62mP7</td>\n",
       "      <td>14.272088</td>\n",
       "      <td>-3.475083</td>\n",
       "      <td>0.999183</td>\n",
       "      <td>26.953261</td>\n",
       "    </tr>\n",
       "    <tr>\n",
       "      <th>2</th>\n",
       "      <td>vyE1P</td>\n",
       "      <td>6.263187</td>\n",
       "      <td>-5.948386</td>\n",
       "      <td>5.001160</td>\n",
       "      <td>134.766305</td>\n",
       "    </tr>\n",
       "    <tr>\n",
       "      <th>3</th>\n",
       "      <td>KcrkZ</td>\n",
       "      <td>-13.081196</td>\n",
       "      <td>-11.506057</td>\n",
       "      <td>4.999415</td>\n",
       "      <td>137.945408</td>\n",
       "    </tr>\n",
       "    <tr>\n",
       "      <th>4</th>\n",
       "      <td>AHL4O</td>\n",
       "      <td>12.702195</td>\n",
       "      <td>-8.147433</td>\n",
       "      <td>5.004363</td>\n",
       "      <td>134.766305</td>\n",
       "    </tr>\n",
       "    <tr>\n",
       "      <th>5</th>\n",
       "      <td>HHckp</td>\n",
       "      <td>-3.327590</td>\n",
       "      <td>-2.205276</td>\n",
       "      <td>3.003647</td>\n",
       "      <td>84.038886</td>\n",
       "    </tr>\n",
       "    <tr>\n",
       "      <th>6</th>\n",
       "      <td>h5Ujo</td>\n",
       "      <td>-11.142655</td>\n",
       "      <td>-10.133399</td>\n",
       "      <td>4.002382</td>\n",
       "      <td>110.992147</td>\n",
       "    </tr>\n",
       "    <tr>\n",
       "      <th>7</th>\n",
       "      <td>muH9x</td>\n",
       "      <td>4.234715</td>\n",
       "      <td>-0.001354</td>\n",
       "      <td>2.004588</td>\n",
       "      <td>53.906522</td>\n",
       "    </tr>\n",
       "    <tr>\n",
       "      <th>8</th>\n",
       "      <td>YiRkx</td>\n",
       "      <td>13.355129</td>\n",
       "      <td>-0.332068</td>\n",
       "      <td>4.998647</td>\n",
       "      <td>134.766305</td>\n",
       "    </tr>\n",
       "    <tr>\n",
       "      <th>9</th>\n",
       "      <td>jG6Gi</td>\n",
       "      <td>1.069227</td>\n",
       "      <td>-11.025667</td>\n",
       "      <td>4.997844</td>\n",
       "      <td>137.945408</td>\n",
       "    </tr>\n",
       "  </tbody>\n",
       "</table>\n",
       "</div>"
      ],
      "text/plain": [
       "      id         f0         f1        f2     product\n",
       "0  kBEdx -15.001348  -8.276000 -0.005876    3.179103\n",
       "1  62mP7  14.272088  -3.475083  0.999183   26.953261\n",
       "2  vyE1P   6.263187  -5.948386  5.001160  134.766305\n",
       "3  KcrkZ -13.081196 -11.506057  4.999415  137.945408\n",
       "4  AHL4O  12.702195  -8.147433  5.004363  134.766305\n",
       "5  HHckp  -3.327590  -2.205276  3.003647   84.038886\n",
       "6  h5Ujo -11.142655 -10.133399  4.002382  110.992147\n",
       "7  muH9x   4.234715  -0.001354  2.004588   53.906522\n",
       "8  YiRkx  13.355129  -0.332068  4.998647  134.766305\n",
       "9  jG6Gi   1.069227 -11.025667  4.997844  137.945408"
      ]
     },
     "execution_count": 6,
     "metadata": {},
     "output_type": "execute_result"
    }
   ],
   "source": [
    "data1.head(10)"
   ]
  },
  {
   "cell_type": "code",
   "execution_count": 7,
   "metadata": {
    "scrolled": true
   },
   "outputs": [
    {
     "data": {
      "text/html": [
       "<div>\n",
       "<style scoped>\n",
       "    .dataframe tbody tr th:only-of-type {\n",
       "        vertical-align: middle;\n",
       "    }\n",
       "\n",
       "    .dataframe tbody tr th {\n",
       "        vertical-align: top;\n",
       "    }\n",
       "\n",
       "    .dataframe thead th {\n",
       "        text-align: right;\n",
       "    }\n",
       "</style>\n",
       "<table border=\"1\" class=\"dataframe\">\n",
       "  <thead>\n",
       "    <tr style=\"text-align: right;\">\n",
       "      <th></th>\n",
       "      <th>id</th>\n",
       "      <th>f0</th>\n",
       "      <th>f1</th>\n",
       "      <th>f2</th>\n",
       "      <th>product</th>\n",
       "    </tr>\n",
       "  </thead>\n",
       "  <tbody>\n",
       "    <tr>\n",
       "      <th>0</th>\n",
       "      <td>fwXo0</td>\n",
       "      <td>-1.146987</td>\n",
       "      <td>0.963328</td>\n",
       "      <td>-0.828965</td>\n",
       "      <td>27.758673</td>\n",
       "    </tr>\n",
       "    <tr>\n",
       "      <th>1</th>\n",
       "      <td>WJtFt</td>\n",
       "      <td>0.262778</td>\n",
       "      <td>0.269839</td>\n",
       "      <td>-2.530187</td>\n",
       "      <td>56.069697</td>\n",
       "    </tr>\n",
       "    <tr>\n",
       "      <th>2</th>\n",
       "      <td>ovLUW</td>\n",
       "      <td>0.194587</td>\n",
       "      <td>0.289035</td>\n",
       "      <td>-5.586433</td>\n",
       "      <td>62.871910</td>\n",
       "    </tr>\n",
       "    <tr>\n",
       "      <th>3</th>\n",
       "      <td>q6cA6</td>\n",
       "      <td>2.236060</td>\n",
       "      <td>-0.553760</td>\n",
       "      <td>0.930038</td>\n",
       "      <td>114.572842</td>\n",
       "    </tr>\n",
       "    <tr>\n",
       "      <th>4</th>\n",
       "      <td>WPMUX</td>\n",
       "      <td>-0.515993</td>\n",
       "      <td>1.716266</td>\n",
       "      <td>5.899011</td>\n",
       "      <td>149.600746</td>\n",
       "    </tr>\n",
       "    <tr>\n",
       "      <th>5</th>\n",
       "      <td>LzZXx</td>\n",
       "      <td>-0.758092</td>\n",
       "      <td>0.710691</td>\n",
       "      <td>2.585887</td>\n",
       "      <td>90.222465</td>\n",
       "    </tr>\n",
       "    <tr>\n",
       "      <th>6</th>\n",
       "      <td>WBHRv</td>\n",
       "      <td>-0.574891</td>\n",
       "      <td>0.317727</td>\n",
       "      <td>1.773745</td>\n",
       "      <td>45.641478</td>\n",
       "    </tr>\n",
       "    <tr>\n",
       "      <th>7</th>\n",
       "      <td>XO8fn</td>\n",
       "      <td>-1.906649</td>\n",
       "      <td>-2.458350</td>\n",
       "      <td>-0.177097</td>\n",
       "      <td>72.480640</td>\n",
       "    </tr>\n",
       "    <tr>\n",
       "      <th>8</th>\n",
       "      <td>ybmQ5</td>\n",
       "      <td>1.776292</td>\n",
       "      <td>-0.279356</td>\n",
       "      <td>3.004156</td>\n",
       "      <td>106.616832</td>\n",
       "    </tr>\n",
       "    <tr>\n",
       "      <th>9</th>\n",
       "      <td>OilcN</td>\n",
       "      <td>-1.214452</td>\n",
       "      <td>-0.439314</td>\n",
       "      <td>5.922514</td>\n",
       "      <td>52.954532</td>\n",
       "    </tr>\n",
       "  </tbody>\n",
       "</table>\n",
       "</div>"
      ],
      "text/plain": [
       "      id        f0        f1        f2     product\n",
       "0  fwXo0 -1.146987  0.963328 -0.828965   27.758673\n",
       "1  WJtFt  0.262778  0.269839 -2.530187   56.069697\n",
       "2  ovLUW  0.194587  0.289035 -5.586433   62.871910\n",
       "3  q6cA6  2.236060 -0.553760  0.930038  114.572842\n",
       "4  WPMUX -0.515993  1.716266  5.899011  149.600746\n",
       "5  LzZXx -0.758092  0.710691  2.585887   90.222465\n",
       "6  WBHRv -0.574891  0.317727  1.773745   45.641478\n",
       "7  XO8fn -1.906649 -2.458350 -0.177097   72.480640\n",
       "8  ybmQ5  1.776292 -0.279356  3.004156  106.616832\n",
       "9  OilcN -1.214452 -0.439314  5.922514   52.954532"
      ]
     },
     "execution_count": 7,
     "metadata": {},
     "output_type": "execute_result"
    }
   ],
   "source": [
    "data2.head(10)"
   ]
  },
  {
   "cell_type": "code",
   "execution_count": 8,
   "metadata": {
    "scrolled": false
   },
   "outputs": [
    {
     "name": "stdout",
     "output_type": "stream",
     "text": [
      "<class 'pandas.core.frame.DataFrame'>\n",
      "RangeIndex: 100000 entries, 0 to 99999\n",
      "Data columns (total 5 columns):\n",
      " #   Column   Non-Null Count   Dtype  \n",
      "---  ------   --------------   -----  \n",
      " 0   id       100000 non-null  object \n",
      " 1   f0       100000 non-null  float64\n",
      " 2   f1       100000 non-null  float64\n",
      " 3   f2       100000 non-null  float64\n",
      " 4   product  100000 non-null  float64\n",
      "dtypes: float64(4), object(1)\n",
      "memory usage: 3.8+ MB\n"
     ]
    },
    {
     "data": {
      "image/png": "[encoded data removed]",
      "text/plain": [
       "<Figure size 720x720 with 4 Axes>"
      ]
     },
     "metadata": {
      "needs_background": "light"
     },
     "output_type": "display_data"
    }
   ],
   "source": [
    "#Выведем информацию о каждом датафрейме и гистограммы\n",
    "data0.info()\n",
    "data0.hist(figsize=(10,10), bins=50);"
   ]
  },
  {
   "cell_type": "code",
   "execution_count": 9,
   "metadata": {
    "scrolled": false
   },
   "outputs": [
    {
     "name": "stdout",
     "output_type": "stream",
     "text": [
      "<class 'pandas.core.frame.DataFrame'>\n",
      "RangeIndex: 100000 entries, 0 to 99999\n",
      "Data columns (total 5 columns):\n",
      " #   Column   Non-Null Count   Dtype  \n",
      "---  ------   --------------   -----  \n",
      " 0   id       100000 non-null  object \n",
      " 1   f0       100000 non-null  float64\n",
      " 2   f1       100000 non-null  float64\n",
      " 3   f2       100000 non-null  float64\n",
      " 4   product  100000 non-null  float64\n",
      "dtypes: float64(4), object(1)\n",
      "memory usage: 3.8+ MB\n"
     ]
    },
    {
     "data": {
      "image/png": "[encoded data removed]",
      "text/plain": [
       "<Figure size 720x720 with 4 Axes>"
      ]
     },
     "metadata": {
      "needs_background": "light"
     },
     "output_type": "display_data"
    }
   ],
   "source": [
    "data1.info()\n",
    "data1.hist(figsize=(10,10), bins=50);"
   ]
  },
  {
   "cell_type": "code",
   "execution_count": 10,
   "metadata": {
    "scrolled": false
   },
   "outputs": [
    {
     "name": "stdout",
     "output_type": "stream",
     "text": [
      "<class 'pandas.core.frame.DataFrame'>\n",
      "RangeIndex: 100000 entries, 0 to 99999\n",
      "Data columns (total 5 columns):\n",
      " #   Column   Non-Null Count   Dtype  \n",
      "---  ------   --------------   -----  \n",
      " 0   id       100000 non-null  object \n",
      " 1   f0       100000 non-null  float64\n",
      " 2   f1       100000 non-null  float64\n",
      " 3   f2       100000 non-null  float64\n",
      " 4   product  100000 non-null  float64\n",
      "dtypes: float64(4), object(1)\n",
      "memory usage: 3.8+ MB\n"
     ]
    },
    {
     "data": {
      "image/png": "[encoded data removed]",
      "text/plain": [
       "<Figure size 720x720 with 4 Axes>"
      ]
     },
     "metadata": {
      "needs_background": "light"
     },
     "output_type": "display_data"
    }
   ],
   "source": [
    "data2.info()\n",
    "data2.hist(figsize=(10,10), bins=50);"
   ]
  },
  {
   "cell_type": "markdown",
   "metadata": {},
   "source": [
    "Пропущенных значений, проблем с типом данных и вылетов **не обнаружено** во всех датафреймах."
   ]
  },
  {
   "cell_type": "code",
   "execution_count": 11,
   "metadata": {
    "scrolled": false
   },
   "outputs": [
    {
     "data": {
      "image/png": "[encoded data removed]",
      "text/plain": [
       "<Figure size 720x360 with 2 Axes>"
      ]
     },
     "metadata": {
      "needs_background": "light"
     },
     "output_type": "display_data"
    },
    {
     "data": {
      "image/png": "[encoded data removed]",
      "text/plain": [
       "<Figure size 720x360 with 2 Axes>"
      ]
     },
     "metadata": {
      "needs_background": "light"
     },
     "output_type": "display_data"
    },
    {
     "data": {
      "image/png": "[encoded data removed]",
      "text/plain": [
       "<Figure size 720x360 with 2 Axes>"
      ]
     },
     "metadata": {
      "needs_background": "light"
     },
     "output_type": "display_data"
    }
   ],
   "source": [
    "#Выведем тепловую карту, чтобы понять, какие параметры наибольшим образом коррелируют между собой\n",
    "plt.figure(figsize = (10,5))\n",
    "plt.title('Регион 1')\n",
    "sns.heatmap(data0.corr(), annot=True, fmt='.1g');\n",
    "plt.figure(figsize = (10,5))\n",
    "plt.title('Регион 2')\n",
    "sns.heatmap(data1.corr(), annot=True, fmt='.1g');\n",
    "plt.figure(figsize = (10,5))\n",
    "plt.title('Регион 3')\n",
    "sns.heatmap(data2.corr(), annot=True, fmt='.1g');"
   ]
  },
  {
   "cell_type": "code",
   "execution_count": 12,
   "metadata": {},
   "outputs": [],
   "source": [
    "#Уберем из датафреймов ID скважин, они не понадобятся в обучении и прогнозе модели\n",
    "data0 = data0.drop(['id'], axis=1)\n",
    "data1 = data1.drop(['id'], axis=1)\n",
    "data2 = data2.drop(['id'], axis=1)"
   ]
  },
  {
   "cell_type": "code",
   "execution_count": 13,
   "metadata": {
    "scrolled": true
   },
   "outputs": [
    {
     "data": {
      "text/html": [
       "<div>\n",
       "<style scoped>\n",
       "    .dataframe tbody tr th:only-of-type {\n",
       "        vertical-align: middle;\n",
       "    }\n",
       "\n",
       "    .dataframe tbody tr th {\n",
       "        vertical-align: top;\n",
       "    }\n",
       "\n",
       "    .dataframe thead th {\n",
       "        text-align: right;\n",
       "    }\n",
       "</style>\n",
       "<table border=\"1\" class=\"dataframe\">\n",
       "  <thead>\n",
       "    <tr style=\"text-align: right;\">\n",
       "      <th></th>\n",
       "      <th>feature</th>\n",
       "      <th>VIF</th>\n",
       "    </tr>\n",
       "  </thead>\n",
       "  <tbody>\n",
       "    <tr>\n",
       "      <th>0</th>\n",
       "      <td>f0</td>\n",
       "      <td>1.534241</td>\n",
       "    </tr>\n",
       "    <tr>\n",
       "      <th>1</th>\n",
       "      <td>f1</td>\n",
       "      <td>1.275466</td>\n",
       "    </tr>\n",
       "    <tr>\n",
       "      <th>2</th>\n",
       "      <td>f2</td>\n",
       "      <td>2.072358</td>\n",
       "    </tr>\n",
       "    <tr>\n",
       "      <th>3</th>\n",
       "      <td>product</td>\n",
       "      <td>2.828466</td>\n",
       "    </tr>\n",
       "  </tbody>\n",
       "</table>\n",
       "</div>"
      ],
      "text/plain": [
       "   feature       VIF\n",
       "0       f0  1.534241\n",
       "1       f1  1.275466\n",
       "2       f2  2.072358\n",
       "3  product  2.828466"
      ]
     },
     "execution_count": 13,
     "metadata": {},
     "output_type": "execute_result"
    }
   ],
   "source": [
    "#Выведем теперь параметр VIF для поиска коллинеарных признаков \n",
    "vif_data0 = pd.DataFrame()\n",
    "vif_data0['feature'] = data0.columns\n",
    "vif_data0['VIF'] = [variance_inflation_factor(data0.values, i) for i in range(len(data0.columns))]\n",
    "vif_data0"
   ]
  },
  {
   "cell_type": "code",
   "execution_count": 14,
   "metadata": {},
   "outputs": [
    {
     "data": {
      "text/html": [
       "<div>\n",
       "<style scoped>\n",
       "    .dataframe tbody tr th:only-of-type {\n",
       "        vertical-align: middle;\n",
       "    }\n",
       "\n",
       "    .dataframe tbody tr th {\n",
       "        vertical-align: top;\n",
       "    }\n",
       "\n",
       "    .dataframe thead th {\n",
       "        text-align: right;\n",
       "    }\n",
       "</style>\n",
       "<table border=\"1\" class=\"dataframe\">\n",
       "  <thead>\n",
       "    <tr style=\"text-align: right;\">\n",
       "      <th></th>\n",
       "      <th>feature</th>\n",
       "      <th>VIF</th>\n",
       "    </tr>\n",
       "  </thead>\n",
       "  <tbody>\n",
       "    <tr>\n",
       "      <th>0</th>\n",
       "      <td>f0</td>\n",
       "      <td>1.987320</td>\n",
       "    </tr>\n",
       "    <tr>\n",
       "      <th>1</th>\n",
       "      <td>f1</td>\n",
       "      <td>1.828240</td>\n",
       "    </tr>\n",
       "    <tr>\n",
       "      <th>2</th>\n",
       "      <td>f2</td>\n",
       "      <td>4660.924529</td>\n",
       "    </tr>\n",
       "    <tr>\n",
       "      <th>3</th>\n",
       "      <td>product</td>\n",
       "      <td>4692.553526</td>\n",
       "    </tr>\n",
       "  </tbody>\n",
       "</table>\n",
       "</div>"
      ],
      "text/plain": [
       "   feature          VIF\n",
       "0       f0     1.987320\n",
       "1       f1     1.828240\n",
       "2       f2  4660.924529\n",
       "3  product  4692.553526"
      ]
     },
     "execution_count": 14,
     "metadata": {},
     "output_type": "execute_result"
    }
   ],
   "source": [
    "vif_data1 = pd.DataFrame()\n",
    "vif_data1['feature'] = data1.columns\n",
    "vif_data1['VIF'] = [variance_inflation_factor(data1.values, i) for i in range(len(data1.columns))]\n",
    "vif_data1"
   ]
  },
  {
   "cell_type": "code",
   "execution_count": 15,
   "metadata": {},
   "outputs": [
    {
     "data": {
      "text/html": [
       "<div>\n",
       "<style scoped>\n",
       "    .dataframe tbody tr th:only-of-type {\n",
       "        vertical-align: middle;\n",
       "    }\n",
       "\n",
       "    .dataframe tbody tr th {\n",
       "        vertical-align: top;\n",
       "    }\n",
       "\n",
       "    .dataframe thead th {\n",
       "        text-align: right;\n",
       "    }\n",
       "</style>\n",
       "<table border=\"1\" class=\"dataframe\">\n",
       "  <thead>\n",
       "    <tr style=\"text-align: right;\">\n",
       "      <th></th>\n",
       "      <th>feature</th>\n",
       "      <th>VIF</th>\n",
       "    </tr>\n",
       "  </thead>\n",
       "  <tbody>\n",
       "    <tr>\n",
       "      <th>0</th>\n",
       "      <td>f0</td>\n",
       "      <td>1.000000</td>\n",
       "    </tr>\n",
       "    <tr>\n",
       "      <th>1</th>\n",
       "      <td>f1</td>\n",
       "      <td>1.000004</td>\n",
       "    </tr>\n",
       "    <tr>\n",
       "      <th>2</th>\n",
       "      <td>f2</td>\n",
       "      <td>1.870123</td>\n",
       "    </tr>\n",
       "    <tr>\n",
       "      <th>3</th>\n",
       "      <td>product</td>\n",
       "      <td>1.870127</td>\n",
       "    </tr>\n",
       "  </tbody>\n",
       "</table>\n",
       "</div>"
      ],
      "text/plain": [
       "   feature       VIF\n",
       "0       f0  1.000000\n",
       "1       f1  1.000004\n",
       "2       f2  1.870123\n",
       "3  product  1.870127"
      ]
     },
     "execution_count": 15,
     "metadata": {},
     "output_type": "execute_result"
    }
   ],
   "source": [
    "vif_data2 = pd.DataFrame()\n",
    "vif_data2['feature'] = data2.columns\n",
    "vif_data2['VIF'] = [variance_inflation_factor(data2.values, i) for i in range(len(data2.columns))]\n",
    "vif_data2"
   ]
  },
  {
   "cell_type": "markdown",
   "metadata": {},
   "source": [
    "**Выводы:**\n",
    "\n",
    "1) Данные выглядят без вылетов, пропущенных значений нету;\\\n",
    "2) Для Региона 1, Региона 2 и Региона 3 достаточно сильно связаны между собой параметры f2 и объем запасов нефти. Особенно это наблюдается для Региона 2, где эти параметры между собой имеют прямую корреляцию."
   ]
  },
  {
   "cell_type": "markdown",
   "metadata": {},
   "source": [
    "## <a id=2>Обучение и проверка модели</a>"
   ]
  },
  {
   "cell_type": "code",
   "execution_count": 16,
   "metadata": {},
   "outputs": [
    {
     "name": "stdout",
     "output_type": "stream",
     "text": [
      "Регион 1\n",
      "(75000, 3)\n",
      "(75000,)\n",
      "(25000, 3)\n",
      "(25000,)\n",
      "----------\n",
      "Регион 2\n",
      "(75000, 3)\n",
      "(75000,)\n",
      "(25000, 3)\n",
      "(25000,)\n",
      "----------\n",
      "Регион 3\n",
      "(75000, 3)\n",
      "(75000,)\n",
      "(25000, 3)\n",
      "(25000,)\n"
     ]
    }
   ],
   "source": [
    "#Разделим датафреймы на выборки в соотношении 75:25\n",
    "features_0 = data0.drop('product', axis=1)\n",
    "features_1 = data1.drop('product', axis=1)\n",
    "features_2 = data2.drop('product', axis=1)\n",
    "\n",
    "target_0 = data0['product']\n",
    "target_1 = data1['product']\n",
    "target_2 = data2['product']\n",
    "\n",
    "features_train_0, features_valid_0, target_train_0, target_valid_0 = train_test_split(\n",
    "    features_0, target_0, test_size=0.25, random_state=12345)\n",
    "features_train_1, features_valid_1, target_train_1, target_valid_1 = train_test_split(\n",
    "    features_1, target_1, test_size=0.25, random_state=12345)\n",
    "features_train_2, features_valid_2, target_train_2, target_valid_2 = train_test_split(\n",
    "    features_2, target_2, test_size=0.25, random_state=12345)\n",
    "\n",
    "print('Регион 1')\n",
    "print(features_train_0.shape)\n",
    "print(target_train_0.shape)\n",
    "print(features_valid_0.shape)\n",
    "print(target_valid_0.shape)\n",
    "print('-' * 10)\n",
    "\n",
    "print('Регион 2')\n",
    "print(features_train_0.shape)\n",
    "print(target_train_0.shape)\n",
    "print(features_valid_0.shape)\n",
    "print(target_valid_0.shape)\n",
    "print('-' * 10)\n",
    "\n",
    "print('Регион 3')\n",
    "print(features_train_0.shape)\n",
    "print(target_train_0.shape)\n",
    "print(features_valid_0.shape)\n",
    "print(target_valid_0.shape)"
   ]
  },
  {
   "cell_type": "code",
   "execution_count": 17,
   "metadata": {},
   "outputs": [],
   "source": [
    "#Обучим модели линейной регрессии для каждого датафрейма\n",
    "model_0 = LinearRegression()\n",
    "model_1 = LinearRegression()\n",
    "model_2 = LinearRegression()\n",
    "\n",
    "model_0.fit(features_train_0, target_train_0) \n",
    "model_1.fit(features_train_1, target_train_1) \n",
    "model_2.fit(features_train_2, target_train_2) \n",
    "\n",
    "predictions_0 = model_0.predict(features_valid_0) \n",
    "predictions_1 = model_1.predict(features_valid_1) \n",
    "predictions_2 = model_2.predict(features_valid_2) "
   ]
  },
  {
   "cell_type": "code",
   "execution_count": 18,
   "metadata": {},
   "outputs": [
    {
     "name": "stdout",
     "output_type": "stream",
     "text": [
      "Средний запас прогнозного сырья для Региона 1: 92.59256778438035\n",
      "Средний запас прогнозного сырья для Региона 2: 68.728546895446\n",
      "Средний запас прогнозного сырья для Региона 3: 94.96504596800489\n",
      "--------------------\n",
      "RMSE для Региона 1: 37.5794217150813\n",
      "RMSE для Региона 2: 0.893099286775617\n",
      "RMSE для Региона 3: 40.02970873393434\n"
     ]
    }
   ],
   "source": [
    "#Найдем средний запас прогнозного сырья и RMSE для каждого региона\n",
    "mean_prod_0 = predictions_0.mean()\n",
    "mean_prod_1 = predictions_1.mean()\n",
    "mean_prod_2 = predictions_2.mean()\n",
    "\n",
    "print('Средний запас прогнозного сырья для Региона 1:', mean_prod_0)\n",
    "print('Средний запас прогнозного сырья для Региона 2:', mean_prod_1)\n",
    "print('Средний запас прогнозного сырья для Региона 3:', mean_prod_2)\n",
    "\n",
    "print('-' * 20)\n",
    "\n",
    "RMSE_0 = mean_squared_error(target_valid_0, predictions_0) ** 0.5\n",
    "RMSE_1 = mean_squared_error(target_valid_1, predictions_1) ** 0.5\n",
    "RMSE_2 = mean_squared_error(target_valid_2, predictions_2) ** 0.5\n",
    "\n",
    "print('RMSE для Региона 1:', RMSE_0)\n",
    "print('RMSE для Региона 2:', RMSE_1)\n",
    "print('RMSE для Региона 3:', RMSE_2)"
   ]
  },
  {
   "cell_type": "code",
   "execution_count": 19,
   "metadata": {},
   "outputs": [
    {
     "name": "stdout",
     "output_type": "stream",
     "text": [
      "(3135,)\n",
      "(363,)\n",
      "(3307,)\n"
     ]
    }
   ],
   "source": [
    "#Создадим набор правильных прогнозных значений, примем, что это значения, \n",
    "#у которых разница c фактическими значениями меньше, чем RMSE\n",
    "\n",
    "predictions_0_pd = pd.Series(predictions_0)\n",
    "predictions_1_pd = pd.Series(predictions_1)\n",
    "predictions_2_pd = pd.Series(predictions_2)\n",
    "\n",
    "right_predict_0 = predictions_0_pd.loc[abs(predictions_0_pd - target_valid_0) < RMSE_0]\n",
    "right_predict_1 = predictions_1_pd.loc[abs(predictions_1_pd - target_valid_1) < RMSE_1]\n",
    "right_predict_2 = predictions_2_pd.loc[abs(predictions_2_pd - target_valid_2) < RMSE_2]\n",
    "\n",
    "print(right_predict_0.shape)\n",
    "print(right_predict_1.shape)\n",
    "print(right_predict_2.shape)"
   ]
  },
  {
   "cell_type": "markdown",
   "metadata": {},
   "source": [
    "**Выводы:**\n",
    "\n",
    "1) Обучены модели линейной регрессии для прогнозирования запасов прогнозного сырья;\\\n",
    "2) Найдены RMSE каждой модели и средний запас прогнозного сырья для каждого региона. Регион 1 и 3 сильно похожи между собой. Для Региона 2 наблюдается наименьшее количество запасов при очень малом RMSE (самая точная модель).  "
   ]
  },
  {
   "cell_type": "markdown",
   "metadata": {},
   "source": [
    "## <a id=3>Подготовка к расчёту прибыли</a>"
   ]
  },
  {
   "cell_type": "markdown",
   "metadata": {},
   "source": [
    "Итак, приступим к расчёту прибыли. Но для начала для каждого вводного параметра зададим переменную:\n",
    "* **all_points** - количество всех рассматриваемых точек (по условию задачи 500)\n",
    "* **best_points** - количество лучших точек, куда будем бурить скважину (по условию задачи 200)\n",
    "* **expenses** - затраты на бурение скважин (по условию задачи 10 млрд рублей)\n",
    "* **income_for_1000barrel** - доход с 1000 баррелей нефти (по условию задачи 450 тыс. рублей) \n",
    "\n",
    "Вводить Налог на полезные ископаемые (НДПИ) не будем, так как этот параметр очень вариативен и зависит от того, какие параметры коллектора у месторождения и какие свойства добываемой нефти (льготный объект или нет). Примерно он 20% на добычу обычной нефти, но по услвоию задачи никаких вводных не было, поэтому НДПИ рассчитывать не будем и примем, что он учтен в доходе с 1000 баррелей нефти. "
   ]
  },
  {
   "cell_type": "code",
   "execution_count": 20,
   "metadata": {},
   "outputs": [
    {
     "name": "stdout",
     "output_type": "stream",
     "text": [
      "Средняя стоимость бурения одной скважины 50000000.0\n",
      "Безубыточный объем добычи нефти 111.111\n"
     ]
    }
   ],
   "source": [
    "#Заведем переменные для вводных параметров\n",
    "ALL_POINTS = 500\n",
    "BEST_POINTS = 200\n",
    "EXPENSES = 10*10**9\n",
    "INCOME_FOR_1000BARREL = 450000\n",
    "\n",
    "#Найдем, сколько в среднем будет стоить бурение одной скважины\n",
    "expenses_per_well = EXPENSES / BEST_POINTS\n",
    "\n",
    "#Найдем, сколько потребуется добыть нефти, чтобы выйти в 0\n",
    "prod_per_well = expenses_per_well / INCOME_FOR_1000BARREL\n",
    "\n",
    "print('Средняя стоимость бурения одной скважины', expenses_per_well)\n",
    "print('Безубыточный объем добычи нефти', round(prod_per_well, 3))"
   ]
  },
  {
   "cell_type": "markdown",
   "metadata": {},
   "source": [
    "**Выводы:**\n",
    "\n",
    "Безубыточный объем добычи нефти составил 111.111 тыс. баррелей, что выше, чем среднее количество запасов, приходящееся на одну скважину.  "
   ]
  },
  {
   "cell_type": "markdown",
   "metadata": {},
   "source": [
    "## <a id=4>Расчёт прибыли и рисков</a> "
   ]
  },
  {
   "cell_type": "markdown",
   "metadata": {},
   "source": [
    "Напишем функцию для нахождения прибыли в млн рублей, учитывая скважины с максимальными правильнымии прогнозными значениями запасов нефти.  "
   ]
  },
  {
   "cell_type": "code",
   "execution_count": 21,
   "metadata": {},
   "outputs": [],
   "source": [
    "#Исправим индексы для target\n",
    "target_valid_0 = target_valid_0.reset_index(drop=True)\n",
    "target_valid_1 = target_valid_1.reset_index(drop=True)\n",
    "target_valid_2 = target_valid_2.reset_index(drop=True)"
   ]
  },
  {
   "cell_type": "code",
   "execution_count": 22,
   "metadata": {},
   "outputs": [],
   "source": [
    "#Функция для расчета прибыли\n",
    "def profit(predict, target, count, income, expenses):\n",
    "    predict_sorted = predict.sort_values(ascending=False)[:count]\n",
    "    selected_target = target[predict_sorted.index]\n",
    "    return (income * selected_target.sum() - expenses)/10**6"
   ]
  },
  {
   "cell_type": "code",
   "execution_count": 23,
   "metadata": {},
   "outputs": [
    {
     "name": "stdout",
     "output_type": "stream",
     "text": [
      "Средняя прибыль Региона 1: 600.735\n",
      "Интервал 95% Региона 1: 12.948, 1231.164\n",
      "Риск убытков Региона 1: 2.0\n",
      "--------------------\n",
      "Средняя прибыль Региона 2: 663.959\n",
      "Интервал 95% Региона 2: 206.476, 1191.198\n",
      "Риск убытков Региона 2: 0.1\n",
      "--------------------\n",
      "Средняя прибыль Региона 3: 597.381\n",
      "Интервал 95% Региона 3: 1.735, 1246.218\n",
      "Риск убытков Региона 3: 2.5\n",
      "--------------------\n"
     ]
    }
   ],
   "source": [
    "#Применим бутстреп с 1000 выборок\n",
    "\n",
    "state = np.random.RandomState(12345)\n",
    "\n",
    "def bootstrap(predict, target, count, num, income, expenses):\n",
    "    values = []\n",
    "    for i in range(1000):\n",
    "        subtarget = target.sample(n=ALL_POINTS, replace=True, random_state=state)\n",
    "        subpredict = predict[subtarget.index]\n",
    "        values.append(profit(subpredict, subtarget, count, income, expenses))\n",
    "    values = pd.Series(values)\n",
    "    loss = round(values[values < 0].count() / values.count() * 100, 3)\n",
    "    quantile_1 = round(values.quantile(0.025), 3)\n",
    "    quantile_2 = round(values.quantile(0.975), 3)\n",
    "    mean = round(values.mean(), 3)\n",
    "    print(f'Средняя прибыль Региона {num+1}: {mean}')\n",
    "    print(f'Интервал 95% Региона {num+1}: {quantile_1}, {quantile_2}')\n",
    "    print(f'Риск убытков Региона {num+1}: {loss}')\n",
    "    print('-'*20)\n",
    "   \n",
    "bootstrap(predictions_0_pd, target_valid_0, BEST_POINTS, 0, INCOME_FOR_1000BARREL, EXPENSES) \n",
    "bootstrap(predictions_1_pd, target_valid_1, BEST_POINTS, 1, INCOME_FOR_1000BARREL, EXPENSES) \n",
    "bootstrap(predictions_2_pd, target_valid_2, BEST_POINTS, 2, INCOME_FOR_1000BARREL, EXPENSES) "
   ]
  },
  {
   "cell_type": "markdown",
   "metadata": {},
   "source": [
    "**Выводы:**\n",
    "\n",
    "Регион 2 является наиболее предпочтительным по величине прибыли (663.959 млн рублей) и риску убытков (0.1%). "
   ]
  },
  {
   "cell_type": "markdown",
   "metadata": {},
   "source": [
    "## <a id=5>Общие выводы</a>"
   ]
  },
  {
   "cell_type": "markdown",
   "metadata": {},
   "source": [
    "**1. Загрузка и подготовка данных**:\n",
    "* Данные выглядят без вылетов, пропущенных значений нету;\\\n",
    "* Для Региона 1, Региона 2 и Региона 3 достаточно сильно связаны между собой параметры f2 и объем запасов нефти. Особенно это наблюдается для Региона 2, где эти параметры между собой имеют прямую корреляцию.\n",
    "------\n",
    "\n",
    "**2. Обучение и проверка модели**:\n",
    "\n",
    "* Обучены модели линейной регрессии для прогнозирования запасов прогнозного сырья;\\\n",
    "* Найдены RMSE каждой модели и средний запас прогнозного сырья для каждого региона. Регион 1 и 3 сильно похожи между собой. Для Региона 2 наблюдается наименьшее количество запасов при очень малом RMSE (самая точная модель).  \n",
    "\n",
    "------\n",
    "\n",
    "**3. Подготовка к расчету прибыли**:\n",
    "\n",
    "* Безубыточный объем добычи нефти составил 111.111 тыс. баррелей, что выше, чем среднее количество запасов, приходящееся на одну скважину.  \n",
    "\n",
    "------\n",
    "\n",
    "**4. Расчет рисков и прибыли**:\n",
    "\n",
    "* Регион 2 является наиболее предпочтительным по величине прибыли (663.959 млн рублей) и риску убытков (0.1%). "
   ]
  }
 ],
 "metadata": {
  "ExecuteTimeLog": [
   {
    "duration": 8175,
    "start_time": "2023-05-02T13:40:53.490Z"
   },
   {
    "duration": 1664,
    "start_time": "2023-05-02T13:41:01.667Z"
   },
   {
    "duration": 4,
    "start_time": "2023-05-02T13:41:03.333Z"
   },
   {
    "duration": 1309,
    "start_time": "2023-05-02T13:41:03.339Z"
   },
   {
    "duration": 14,
    "start_time": "2023-05-02T13:41:04.650Z"
   },
   {
    "duration": 10,
    "start_time": "2023-05-02T13:41:04.666Z"
   },
   {
    "duration": 22,
    "start_time": "2023-05-02T13:41:04.678Z"
   },
   {
    "duration": 803,
    "start_time": "2023-05-02T13:41:04.702Z"
   },
   {
    "duration": 908,
    "start_time": "2023-05-02T13:41:05.507Z"
   },
   {
    "duration": 804,
    "start_time": "2023-05-02T13:41:06.417Z"
   },
   {
    "duration": 1143,
    "start_time": "2023-05-02T13:41:07.223Z"
   },
   {
    "duration": 11,
    "start_time": "2023-05-02T13:41:08.368Z"
   },
   {
    "duration": 685,
    "start_time": "2023-05-02T13:41:08.381Z"
   },
   {
    "duration": 795,
    "start_time": "2023-05-02T13:41:09.127Z"
   },
   {
    "duration": 718,
    "start_time": "2023-05-02T13:41:09.934Z"
   },
   {
    "duration": 54,
    "start_time": "2023-05-02T13:41:10.729Z"
   },
   {
    "duration": 254,
    "start_time": "2023-05-02T13:41:10.785Z"
   },
   {
    "duration": 95,
    "start_time": "2023-05-02T13:41:11.120Z"
   },
   {
    "duration": 53,
    "start_time": "2023-05-02T13:41:11.217Z"
   },
   {
    "duration": 4,
    "start_time": "2023-05-02T13:41:11.272Z"
   },
   {
    "duration": 18,
    "start_time": "2023-05-02T13:41:11.278Z"
   },
   {
    "duration": 1384,
    "start_time": "2023-05-02T13:41:11.299Z"
   },
   {
    "duration": 7,
    "start_time": "2023-05-02T13:55:29.285Z"
   },
   {
    "duration": 7293,
    "start_time": "2023-05-03T09:08:22.022Z"
   },
   {
    "duration": 1436,
    "start_time": "2023-05-03T09:08:29.318Z"
   },
   {
    "duration": 4,
    "start_time": "2023-05-03T09:08:30.756Z"
   },
   {
    "duration": 986,
    "start_time": "2023-05-03T09:08:30.762Z"
   },
   {
    "duration": 15,
    "start_time": "2023-05-03T09:08:31.751Z"
   },
   {
    "duration": 32,
    "start_time": "2023-05-03T09:08:31.769Z"
   },
   {
    "duration": 30,
    "start_time": "2023-05-03T09:08:31.803Z"
   },
   {
    "duration": 713,
    "start_time": "2023-05-03T09:08:31.835Z"
   },
   {
    "duration": 780,
    "start_time": "2023-05-03T09:08:32.550Z"
   },
   {
    "duration": 699,
    "start_time": "2023-05-03T09:08:33.332Z"
   },
   {
    "duration": 1045,
    "start_time": "2023-05-03T09:08:34.032Z"
   },
   {
    "duration": 14,
    "start_time": "2023-05-03T09:08:35.079Z"
   },
   {
    "duration": 790,
    "start_time": "2023-05-03T09:08:35.095Z"
   },
   {
    "duration": 802,
    "start_time": "2023-05-03T09:08:35.888Z"
   },
   {
    "duration": 794,
    "start_time": "2023-05-03T09:08:36.693Z"
   },
   {
    "duration": 126,
    "start_time": "2023-05-03T09:08:37.499Z"
   },
   {
    "duration": 259,
    "start_time": "2023-05-03T09:08:37.626Z"
   },
   {
    "duration": 98,
    "start_time": "2023-05-03T09:08:37.888Z"
   },
   {
    "duration": 38,
    "start_time": "2023-05-03T09:08:37.988Z"
   },
   {
    "duration": 4,
    "start_time": "2023-05-03T09:08:38.028Z"
   },
   {
    "duration": 17,
    "start_time": "2023-05-03T09:08:38.034Z"
   },
   {
    "duration": 4,
    "start_time": "2023-05-03T09:08:38.052Z"
   },
   {
    "duration": 130,
    "start_time": "2023-05-03T09:08:38.057Z"
   },
   {
    "duration": 52,
    "start_time": "2023-05-03T10:19:55.101Z"
   },
   {
    "duration": 7347,
    "start_time": "2023-05-03T10:20:08.801Z"
   },
   {
    "duration": 1571,
    "start_time": "2023-05-03T10:20:16.151Z"
   },
   {
    "duration": 3,
    "start_time": "2023-05-03T10:20:17.727Z"
   },
   {
    "duration": 1763,
    "start_time": "2023-05-03T10:20:17.731Z"
   },
   {
    "duration": 13,
    "start_time": "2023-05-03T10:20:19.496Z"
   },
   {
    "duration": 13,
    "start_time": "2023-05-03T10:20:19.510Z"
   },
   {
    "duration": 15,
    "start_time": "2023-05-03T10:20:19.524Z"
   },
   {
    "duration": 646,
    "start_time": "2023-05-03T10:20:19.541Z"
   },
   {
    "duration": 701,
    "start_time": "2023-05-03T10:20:20.189Z"
   },
   {
    "duration": 623,
    "start_time": "2023-05-03T10:20:20.891Z"
   },
   {
    "duration": 985,
    "start_time": "2023-05-03T10:20:21.515Z"
   },
   {
    "duration": 10,
    "start_time": "2023-05-03T10:20:22.501Z"
   },
   {
    "duration": 452,
    "start_time": "2023-05-03T10:20:22.513Z"
   },
   {
    "duration": 784,
    "start_time": "2023-05-03T10:20:22.966Z"
   },
   {
    "duration": 698,
    "start_time": "2023-05-03T10:20:23.759Z"
   },
   {
    "duration": 120,
    "start_time": "2023-05-03T10:20:24.463Z"
   },
   {
    "duration": 176,
    "start_time": "2023-05-03T10:20:24.585Z"
   },
   {
    "duration": 100,
    "start_time": "2023-05-03T10:20:24.763Z"
   },
   {
    "duration": 130,
    "start_time": "2023-05-03T10:20:24.864Z"
   },
   {
    "duration": 5,
    "start_time": "2023-05-03T10:20:24.996Z"
   },
   {
    "duration": 21,
    "start_time": "2023-05-03T10:20:25.003Z"
   },
   {
    "duration": 10,
    "start_time": "2023-05-03T10:20:25.026Z"
   },
   {
    "duration": 1144,
    "start_time": "2023-05-03T10:20:25.038Z"
   },
   {
    "duration": 2854,
    "start_time": "2023-05-03T10:20:56.412Z"
   },
   {
    "duration": 6933,
    "start_time": "2023-05-04T07:27:44.574Z"
   },
   {
    "duration": 1403,
    "start_time": "2023-05-04T07:27:51.511Z"
   },
   {
    "duration": 4,
    "start_time": "2023-05-04T07:27:52.916Z"
   },
   {
    "duration": 1016,
    "start_time": "2023-05-04T07:27:52.922Z"
   },
   {
    "duration": 15,
    "start_time": "2023-05-04T07:27:53.939Z"
   },
   {
    "duration": 9,
    "start_time": "2023-05-04T07:27:53.955Z"
   },
   {
    "duration": 13,
    "start_time": "2023-05-04T07:27:53.965Z"
   },
   {
    "duration": 782,
    "start_time": "2023-05-04T07:27:53.979Z"
   },
   {
    "duration": 799,
    "start_time": "2023-05-04T07:27:54.763Z"
   },
   {
    "duration": 647,
    "start_time": "2023-05-04T07:27:55.564Z"
   },
   {
    "duration": 1110,
    "start_time": "2023-05-04T07:27:56.213Z"
   },
   {
    "duration": 12,
    "start_time": "2023-05-04T07:27:57.325Z"
   },
   {
    "duration": 860,
    "start_time": "2023-05-04T07:27:57.339Z"
   },
   {
    "duration": 715,
    "start_time": "2023-05-04T07:27:58.204Z"
   },
   {
    "duration": 917,
    "start_time": "2023-05-04T07:27:58.994Z"
   },
   {
    "duration": 138,
    "start_time": "2023-05-04T07:27:59.915Z"
   },
   {
    "duration": 240,
    "start_time": "2023-05-04T07:28:00.055Z"
   },
   {
    "duration": 25,
    "start_time": "2023-05-04T07:28:00.297Z"
   },
   {
    "duration": 61,
    "start_time": "2023-05-04T07:28:00.398Z"
   },
   {
    "duration": 5,
    "start_time": "2023-05-04T07:28:00.461Z"
   },
   {
    "duration": 45,
    "start_time": "2023-05-04T07:28:00.469Z"
   },
   {
    "duration": 22,
    "start_time": "2023-05-04T07:28:00.516Z"
   },
   {
    "duration": 3546,
    "start_time": "2023-05-04T07:28:00.540Z"
   }
  ],
  "kernelspec": {
   "display_name": "Python 3 (ipykernel)",
   "language": "python",
   "name": "python3"
  },
  "language_info": {
   "codemirror_mode": {
    "name": "ipython",
    "version": 3
   },
   "file_extension": ".py",
   "mimetype": "text/x-python",
   "name": "python",
   "nbconvert_exporter": "python",
   "pygments_lexer": "ipython3",
   "version": "3.9.13"
  },
  "toc": {
   "base_numbering": 1,
   "nav_menu": {},
   "number_sections": true,
   "sideBar": true,
   "skip_h1_title": true,
   "title_cell": "Table of Contents",
   "title_sidebar": "Contents",
   "toc_cell": false,
   "toc_position": {},
   "toc_section_display": true,
   "toc_window_display": false
  }
 },
 "nbformat": 4,
 "nbformat_minor": 2
}
