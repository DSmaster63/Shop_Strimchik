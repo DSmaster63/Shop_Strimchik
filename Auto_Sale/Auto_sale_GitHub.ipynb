{
 "cells": [
  {
   "cell_type": "markdown",
   "metadata": {},
   "source": [
    "# Определение стоимости автомобилей (Auto_Sale)"
   ]
  },
  {
   "cell_type": "markdown",
   "metadata": {},
   "source": [
    "<h2>Содержание<span class=\"tocSkip\"></span></h2> \n",
    "<br>\n",
    "<div class=\"toc\"><ul class=\"toc-item\"><li><span><a href=\"#Подготовка-данных\" data-toc-modified-id=\"Подготовка-данных-1\"><span class=\"toc-item-num\">1&nbsp;&nbsp;</span>Подготовка данных</a></span></li><li><span><a href=\"#Обучение-моделей\" data-toc-modified-id=\"Обучение-моделей-2\"><span class=\"toc-item-num\">2&nbsp;&nbsp;</span>Обучение моделей</a></span></li><li><span><a href=\"#Анализ-моделей\" data-toc-modified-id=\"Анализ-моделей-3\"><span class=\"toc-item-num\">3&nbsp;&nbsp;</span>Анализ моделей</a></span></li><li><span><a href=\"#Общие-выводы\" data-toc-modified-id=\"Общие-выводы-4\"><span class=\"toc-item-num\">4&nbsp;&nbsp;</span>Общие выводы</a></span></li><li><span><a href=\"#Чек-лист-проверки\" data-toc-modified-id=\"Чек-лист-проверки-5\"><span class=\"toc-item-num\">5&nbsp;&nbsp;</span>Чек-лист проверки</a></span></li></ul></div>"
   ]
  },
  {
   "cell_type": "markdown",
   "metadata": {},
   "source": [
    "Сервис по продаже автомобилей с пробегом «Не бит, не крашен» разрабатывает приложение для привлечения новых клиентов. В нём можно быстро узнать рыночную стоимость своего автомобиля.\n",
    "____\n",
    "\n",
    "**Описание данных:** В распоряжении исторические данные: технические характеристики, комплектации и цены автомобилей.\n",
    "\n",
    "**Признаки:** \n",
    "\n",
    "* **DateCrawled** — дата скачивания анкеты из базы\n",
    "* **VehicleType** — тип автомобильного кузова\n",
    "* **RegistrationYear** — год регистрации автомобиля\n",
    "* **Gearbox** — тип коробки передач\n",
    "* **Power** — мощность (л. с.)\n",
    "* **Model** — модель автомобиля\n",
    "* **Kilometer** — пробег (км)\n",
    "* **RegistrationMonth** — месяц регистрации автомобиля\n",
    "* **FuelType** — тип топлива\n",
    "* **Brand** — марка автомобиля\n",
    "* **Repaired** — была машина в ремонте или нет\n",
    "* **DateCreated** — дата создания анкеты\n",
    "* **NumberOfPictures** — количество фотографий автомобиля\n",
    "* **PostalCode** — почтовый индекс владельца анкеты (пользователя)\n",
    "* **LastSeen** — дата последней активности пользователя\n",
    "\n",
    "**Целевой признак:** \n",
    "\n",
    "* **Price** — цена (евро)\n",
    "____\n",
    "\n",
    "**Задача:** Нужно построить модель для определения стоимости. \n",
    "____\n",
    "\n",
    "**Цель:** С помощью модели определить стоимость автомобиля, исходя из следующих важных для Заказчика критериев:\n",
    "- качество предсказания;\n",
    "- скорость предсказания;\n",
    "- время обучения.\n",
    "____"
   ]
  },
  {
   "cell_type": "markdown",
   "metadata": {},
   "source": [
    "## Подготовка данных"
   ]
  },
  {
   "cell_type": "code",
   "execution_count": 1,
   "metadata": {},
   "outputs": [],
   "source": [
    "#Подгружаем необходимые библиотеки для работы с данными и машинного обучения\n",
    "import warnings\n",
    "import timeit\n",
    "\n",
    "import pandas as pd\n",
    "\n",
    "import catboost\n",
    "import phik\n",
    "import lightgbm as lgb\n",
    "from sklearn.model_selection import GridSearchCV, RandomizedSearchCV\n",
    "from sklearn.tree import DecisionTreeRegressor\n",
    "from sklearn.ensemble import RandomForestRegressor \n",
    "from sklearn.linear_model import (LinearRegression, \n",
    "                                  Ridge, \n",
    "                                  Lasso,\n",
    "                                  ElasticNet)\n",
    "from catboost import CatBoostRegressor\n",
    "from sklearn.metrics import (mean_absolute_error,\n",
    "                             mean_squared_error,\n",
    "                             f1_score, \n",
    "                             roc_curve, \n",
    "                             roc_auc_score, \n",
    "                             confusion_matrix,\n",
    "                             accuracy_score,\n",
    "                             make_scorer)\n",
    "from sklearn.utils import shuffle\n",
    "from sklearn.model_selection import train_test_split\n",
    "from sklearn.preprocessing import StandardScaler, OneHotEncoder, OrdinalEncoder\n",
    "from sklearn.dummy import DummyRegressor\n",
    "from statsmodels.stats.outliers_influence import variance_inflation_factor\n",
    "from scipy import stats as st\n",
    "\n",
    "#Подгружаем дополнительные полезные библиотеки\n",
    "import matplotlib.pyplot as plt\n",
    "import seaborn as sns\n",
    "import numpy as np"
   ]
  },
  {
   "cell_type": "code",
   "execution_count": 2,
   "metadata": {},
   "outputs": [],
   "source": [
    "#Уберем warnings, чтобы не мешали\n",
    "warnings.filterwarnings(\"ignore\")"
   ]
  },
  {
   "cell_type": "code",
   "execution_count": 3,
   "metadata": {},
   "outputs": [],
   "source": [
    "#Загружаем файлы с данными\n",
    "try:\n",
    "    data = pd.read_csv('C:/Users/kiril/OneDrive/Рабочий стол/Практикум/Проекты/Спринт 11. Численные методы/autos.csv')\n",
    "except:\n",
    "    data = pd.read_csv('/datasets/autos.csv')"
   ]
  },
  {
   "cell_type": "code",
   "execution_count": 4,
   "metadata": {
    "scrolled": false
   },
   "outputs": [
    {
     "data": {
      "text/html": [
       "<div>\n",
       "<style scoped>\n",
       "    .dataframe tbody tr th:only-of-type {\n",
       "        vertical-align: middle;\n",
       "    }\n",
       "\n",
       "    .dataframe tbody tr th {\n",
       "        vertical-align: top;\n",
       "    }\n",
       "\n",
       "    .dataframe thead th {\n",
       "        text-align: right;\n",
       "    }\n",
       "</style>\n",
       "<table border=\"1\" class=\"dataframe\">\n",
       "  <thead>\n",
       "    <tr style=\"text-align: right;\">\n",
       "      <th></th>\n",
       "      <th>DateCrawled</th>\n",
       "      <th>Price</th>\n",
       "      <th>VehicleType</th>\n",
       "      <th>RegistrationYear</th>\n",
       "      <th>Gearbox</th>\n",
       "      <th>Power</th>\n",
       "      <th>Model</th>\n",
       "      <th>Kilometer</th>\n",
       "      <th>RegistrationMonth</th>\n",
       "      <th>FuelType</th>\n",
       "      <th>Brand</th>\n",
       "      <th>Repaired</th>\n",
       "      <th>DateCreated</th>\n",
       "      <th>NumberOfPictures</th>\n",
       "      <th>PostalCode</th>\n",
       "      <th>LastSeen</th>\n",
       "    </tr>\n",
       "  </thead>\n",
       "  <tbody>\n",
       "    <tr>\n",
       "      <th>0</th>\n",
       "      <td>2016-03-24 11:52:17</td>\n",
       "      <td>480</td>\n",
       "      <td>NaN</td>\n",
       "      <td>1993</td>\n",
       "      <td>manual</td>\n",
       "      <td>0</td>\n",
       "      <td>golf</td>\n",
       "      <td>150000</td>\n",
       "      <td>0</td>\n",
       "      <td>petrol</td>\n",
       "      <td>volkswagen</td>\n",
       "      <td>NaN</td>\n",
       "      <td>2016-03-24 00:00:00</td>\n",
       "      <td>0</td>\n",
       "      <td>70435</td>\n",
       "      <td>2016-04-07 03:16:57</td>\n",
       "    </tr>\n",
       "    <tr>\n",
       "      <th>1</th>\n",
       "      <td>2016-03-24 10:58:45</td>\n",
       "      <td>18300</td>\n",
       "      <td>coupe</td>\n",
       "      <td>2011</td>\n",
       "      <td>manual</td>\n",
       "      <td>190</td>\n",
       "      <td>NaN</td>\n",
       "      <td>125000</td>\n",
       "      <td>5</td>\n",
       "      <td>gasoline</td>\n",
       "      <td>audi</td>\n",
       "      <td>yes</td>\n",
       "      <td>2016-03-24 00:00:00</td>\n",
       "      <td>0</td>\n",
       "      <td>66954</td>\n",
       "      <td>2016-04-07 01:46:50</td>\n",
       "    </tr>\n",
       "    <tr>\n",
       "      <th>2</th>\n",
       "      <td>2016-03-14 12:52:21</td>\n",
       "      <td>9800</td>\n",
       "      <td>suv</td>\n",
       "      <td>2004</td>\n",
       "      <td>auto</td>\n",
       "      <td>163</td>\n",
       "      <td>grand</td>\n",
       "      <td>125000</td>\n",
       "      <td>8</td>\n",
       "      <td>gasoline</td>\n",
       "      <td>jeep</td>\n",
       "      <td>NaN</td>\n",
       "      <td>2016-03-14 00:00:00</td>\n",
       "      <td>0</td>\n",
       "      <td>90480</td>\n",
       "      <td>2016-04-05 12:47:46</td>\n",
       "    </tr>\n",
       "    <tr>\n",
       "      <th>3</th>\n",
       "      <td>2016-03-17 16:54:04</td>\n",
       "      <td>1500</td>\n",
       "      <td>small</td>\n",
       "      <td>2001</td>\n",
       "      <td>manual</td>\n",
       "      <td>75</td>\n",
       "      <td>golf</td>\n",
       "      <td>150000</td>\n",
       "      <td>6</td>\n",
       "      <td>petrol</td>\n",
       "      <td>volkswagen</td>\n",
       "      <td>no</td>\n",
       "      <td>2016-03-17 00:00:00</td>\n",
       "      <td>0</td>\n",
       "      <td>91074</td>\n",
       "      <td>2016-03-17 17:40:17</td>\n",
       "    </tr>\n",
       "    <tr>\n",
       "      <th>4</th>\n",
       "      <td>2016-03-31 17:25:20</td>\n",
       "      <td>3600</td>\n",
       "      <td>small</td>\n",
       "      <td>2008</td>\n",
       "      <td>manual</td>\n",
       "      <td>69</td>\n",
       "      <td>fabia</td>\n",
       "      <td>90000</td>\n",
       "      <td>7</td>\n",
       "      <td>gasoline</td>\n",
       "      <td>skoda</td>\n",
       "      <td>no</td>\n",
       "      <td>2016-03-31 00:00:00</td>\n",
       "      <td>0</td>\n",
       "      <td>60437</td>\n",
       "      <td>2016-04-06 10:17:21</td>\n",
       "    </tr>\n",
       "    <tr>\n",
       "      <th>5</th>\n",
       "      <td>2016-04-04 17:36:23</td>\n",
       "      <td>650</td>\n",
       "      <td>sedan</td>\n",
       "      <td>1995</td>\n",
       "      <td>manual</td>\n",
       "      <td>102</td>\n",
       "      <td>3er</td>\n",
       "      <td>150000</td>\n",
       "      <td>10</td>\n",
       "      <td>petrol</td>\n",
       "      <td>bmw</td>\n",
       "      <td>yes</td>\n",
       "      <td>2016-04-04 00:00:00</td>\n",
       "      <td>0</td>\n",
       "      <td>33775</td>\n",
       "      <td>2016-04-06 19:17:07</td>\n",
       "    </tr>\n",
       "    <tr>\n",
       "      <th>6</th>\n",
       "      <td>2016-04-01 20:48:51</td>\n",
       "      <td>2200</td>\n",
       "      <td>convertible</td>\n",
       "      <td>2004</td>\n",
       "      <td>manual</td>\n",
       "      <td>109</td>\n",
       "      <td>2_reihe</td>\n",
       "      <td>150000</td>\n",
       "      <td>8</td>\n",
       "      <td>petrol</td>\n",
       "      <td>peugeot</td>\n",
       "      <td>no</td>\n",
       "      <td>2016-04-01 00:00:00</td>\n",
       "      <td>0</td>\n",
       "      <td>67112</td>\n",
       "      <td>2016-04-05 18:18:39</td>\n",
       "    </tr>\n",
       "    <tr>\n",
       "      <th>7</th>\n",
       "      <td>2016-03-21 18:54:38</td>\n",
       "      <td>0</td>\n",
       "      <td>sedan</td>\n",
       "      <td>1980</td>\n",
       "      <td>manual</td>\n",
       "      <td>50</td>\n",
       "      <td>other</td>\n",
       "      <td>40000</td>\n",
       "      <td>7</td>\n",
       "      <td>petrol</td>\n",
       "      <td>volkswagen</td>\n",
       "      <td>no</td>\n",
       "      <td>2016-03-21 00:00:00</td>\n",
       "      <td>0</td>\n",
       "      <td>19348</td>\n",
       "      <td>2016-03-25 16:47:58</td>\n",
       "    </tr>\n",
       "    <tr>\n",
       "      <th>8</th>\n",
       "      <td>2016-04-04 23:42:13</td>\n",
       "      <td>14500</td>\n",
       "      <td>bus</td>\n",
       "      <td>2014</td>\n",
       "      <td>manual</td>\n",
       "      <td>125</td>\n",
       "      <td>c_max</td>\n",
       "      <td>30000</td>\n",
       "      <td>8</td>\n",
       "      <td>petrol</td>\n",
       "      <td>ford</td>\n",
       "      <td>NaN</td>\n",
       "      <td>2016-04-04 00:00:00</td>\n",
       "      <td>0</td>\n",
       "      <td>94505</td>\n",
       "      <td>2016-04-04 23:42:13</td>\n",
       "    </tr>\n",
       "    <tr>\n",
       "      <th>9</th>\n",
       "      <td>2016-03-17 10:53:50</td>\n",
       "      <td>999</td>\n",
       "      <td>small</td>\n",
       "      <td>1998</td>\n",
       "      <td>manual</td>\n",
       "      <td>101</td>\n",
       "      <td>golf</td>\n",
       "      <td>150000</td>\n",
       "      <td>0</td>\n",
       "      <td>NaN</td>\n",
       "      <td>volkswagen</td>\n",
       "      <td>NaN</td>\n",
       "      <td>2016-03-17 00:00:00</td>\n",
       "      <td>0</td>\n",
       "      <td>27472</td>\n",
       "      <td>2016-03-31 17:17:06</td>\n",
       "    </tr>\n",
       "  </tbody>\n",
       "</table>\n",
       "</div>"
      ],
      "text/plain": [
       "           DateCrawled  Price  VehicleType  RegistrationYear Gearbox  Power  \\\n",
       "0  2016-03-24 11:52:17    480          NaN              1993  manual      0   \n",
       "1  2016-03-24 10:58:45  18300        coupe              2011  manual    190   \n",
       "2  2016-03-14 12:52:21   9800          suv              2004    auto    163   \n",
       "3  2016-03-17 16:54:04   1500        small              2001  manual     75   \n",
       "4  2016-03-31 17:25:20   3600        small              2008  manual     69   \n",
       "5  2016-04-04 17:36:23    650        sedan              1995  manual    102   \n",
       "6  2016-04-01 20:48:51   2200  convertible              2004  manual    109   \n",
       "7  2016-03-21 18:54:38      0        sedan              1980  manual     50   \n",
       "8  2016-04-04 23:42:13  14500          bus              2014  manual    125   \n",
       "9  2016-03-17 10:53:50    999        small              1998  manual    101   \n",
       "\n",
       "     Model  Kilometer  RegistrationMonth  FuelType       Brand Repaired  \\\n",
       "0     golf     150000                  0    petrol  volkswagen      NaN   \n",
       "1      NaN     125000                  5  gasoline        audi      yes   \n",
       "2    grand     125000                  8  gasoline        jeep      NaN   \n",
       "3     golf     150000                  6    petrol  volkswagen       no   \n",
       "4    fabia      90000                  7  gasoline       skoda       no   \n",
       "5      3er     150000                 10    petrol         bmw      yes   \n",
       "6  2_reihe     150000                  8    petrol     peugeot       no   \n",
       "7    other      40000                  7    petrol  volkswagen       no   \n",
       "8    c_max      30000                  8    petrol        ford      NaN   \n",
       "9     golf     150000                  0       NaN  volkswagen      NaN   \n",
       "\n",
       "           DateCreated  NumberOfPictures  PostalCode             LastSeen  \n",
       "0  2016-03-24 00:00:00                 0       70435  2016-04-07 03:16:57  \n",
       "1  2016-03-24 00:00:00                 0       66954  2016-04-07 01:46:50  \n",
       "2  2016-03-14 00:00:00                 0       90480  2016-04-05 12:47:46  \n",
       "3  2016-03-17 00:00:00                 0       91074  2016-03-17 17:40:17  \n",
       "4  2016-03-31 00:00:00                 0       60437  2016-04-06 10:17:21  \n",
       "5  2016-04-04 00:00:00                 0       33775  2016-04-06 19:17:07  \n",
       "6  2016-04-01 00:00:00                 0       67112  2016-04-05 18:18:39  \n",
       "7  2016-03-21 00:00:00                 0       19348  2016-03-25 16:47:58  \n",
       "8  2016-04-04 00:00:00                 0       94505  2016-04-04 23:42:13  \n",
       "9  2016-03-17 00:00:00                 0       27472  2016-03-31 17:17:06  "
      ]
     },
     "execution_count": 4,
     "metadata": {},
     "output_type": "execute_result"
    }
   ],
   "source": [
    "#Проверяем датафрейм\n",
    "data.head(10)"
   ]
  },
  {
   "cell_type": "code",
   "execution_count": 5,
   "metadata": {
    "scrolled": false
   },
   "outputs": [
    {
     "name": "stdout",
     "output_type": "stream",
     "text": [
      "<class 'pandas.core.frame.DataFrame'>\n",
      "RangeIndex: 354369 entries, 0 to 354368\n",
      "Data columns (total 16 columns):\n",
      " #   Column             Non-Null Count   Dtype \n",
      "---  ------             --------------   ----- \n",
      " 0   DateCrawled        354369 non-null  object\n",
      " 1   Price              354369 non-null  int64 \n",
      " 2   VehicleType        316879 non-null  object\n",
      " 3   RegistrationYear   354369 non-null  int64 \n",
      " 4   Gearbox            334536 non-null  object\n",
      " 5   Power              354369 non-null  int64 \n",
      " 6   Model              334664 non-null  object\n",
      " 7   Kilometer          354369 non-null  int64 \n",
      " 8   RegistrationMonth  354369 non-null  int64 \n",
      " 9   FuelType           321474 non-null  object\n",
      " 10  Brand              354369 non-null  object\n",
      " 11  Repaired           283215 non-null  object\n",
      " 12  DateCreated        354369 non-null  object\n",
      " 13  NumberOfPictures   354369 non-null  int64 \n",
      " 14  PostalCode         354369 non-null  int64 \n",
      " 15  LastSeen           354369 non-null  object\n",
      "dtypes: int64(7), object(9)\n",
      "memory usage: 43.3+ MB\n"
     ]
    },
    {
     "data": {
      "image/png": "[encoded data removed]",
      "text/plain": [
       "<Figure size 1000x1000 with 9 Axes>"
      ]
     },
     "metadata": {},
     "output_type": "display_data"
    }
   ],
   "source": [
    "#Выведем информацию о каждом датафрейме и гистограммы\n",
    "data.info();\n",
    "data.hist(figsize=(10,10), bins=100);"
   ]
  },
  {
   "cell_type": "code",
   "execution_count": 6,
   "metadata": {},
   "outputs": [
    {
     "data": {
      "text/html": [
       "<div>\n",
       "<style scoped>\n",
       "    .dataframe tbody tr th:only-of-type {\n",
       "        vertical-align: middle;\n",
       "    }\n",
       "\n",
       "    .dataframe tbody tr th {\n",
       "        vertical-align: top;\n",
       "    }\n",
       "\n",
       "    .dataframe thead th {\n",
       "        text-align: right;\n",
       "    }\n",
       "</style>\n",
       "<table border=\"1\" class=\"dataframe\">\n",
       "  <thead>\n",
       "    <tr style=\"text-align: right;\">\n",
       "      <th></th>\n",
       "      <th>count</th>\n",
       "      <th>mean</th>\n",
       "      <th>std</th>\n",
       "      <th>min</th>\n",
       "      <th>25%</th>\n",
       "      <th>50%</th>\n",
       "      <th>75%</th>\n",
       "      <th>max</th>\n",
       "    </tr>\n",
       "  </thead>\n",
       "  <tbody>\n",
       "    <tr>\n",
       "      <th>Price</th>\n",
       "      <td>354369.0</td>\n",
       "      <td>4416.657</td>\n",
       "      <td>4514.159</td>\n",
       "      <td>0.0</td>\n",
       "      <td>1050.0</td>\n",
       "      <td>2700.0</td>\n",
       "      <td>6400.0</td>\n",
       "      <td>20000.0</td>\n",
       "    </tr>\n",
       "    <tr>\n",
       "      <th>RegistrationYear</th>\n",
       "      <td>354369.0</td>\n",
       "      <td>2004.234</td>\n",
       "      <td>90.228</td>\n",
       "      <td>1000.0</td>\n",
       "      <td>1999.0</td>\n",
       "      <td>2003.0</td>\n",
       "      <td>2008.0</td>\n",
       "      <td>9999.0</td>\n",
       "    </tr>\n",
       "    <tr>\n",
       "      <th>Power</th>\n",
       "      <td>354369.0</td>\n",
       "      <td>110.094</td>\n",
       "      <td>189.850</td>\n",
       "      <td>0.0</td>\n",
       "      <td>69.0</td>\n",
       "      <td>105.0</td>\n",
       "      <td>143.0</td>\n",
       "      <td>20000.0</td>\n",
       "    </tr>\n",
       "    <tr>\n",
       "      <th>Kilometer</th>\n",
       "      <td>354369.0</td>\n",
       "      <td>128211.173</td>\n",
       "      <td>37905.342</td>\n",
       "      <td>5000.0</td>\n",
       "      <td>125000.0</td>\n",
       "      <td>150000.0</td>\n",
       "      <td>150000.0</td>\n",
       "      <td>150000.0</td>\n",
       "    </tr>\n",
       "    <tr>\n",
       "      <th>RegistrationMonth</th>\n",
       "      <td>354369.0</td>\n",
       "      <td>5.715</td>\n",
       "      <td>3.726</td>\n",
       "      <td>0.0</td>\n",
       "      <td>3.0</td>\n",
       "      <td>6.0</td>\n",
       "      <td>9.0</td>\n",
       "      <td>12.0</td>\n",
       "    </tr>\n",
       "    <tr>\n",
       "      <th>NumberOfPictures</th>\n",
       "      <td>354369.0</td>\n",
       "      <td>0.000</td>\n",
       "      <td>0.000</td>\n",
       "      <td>0.0</td>\n",
       "      <td>0.0</td>\n",
       "      <td>0.0</td>\n",
       "      <td>0.0</td>\n",
       "      <td>0.0</td>\n",
       "    </tr>\n",
       "    <tr>\n",
       "      <th>PostalCode</th>\n",
       "      <td>354369.0</td>\n",
       "      <td>50508.689</td>\n",
       "      <td>25783.096</td>\n",
       "      <td>1067.0</td>\n",
       "      <td>30165.0</td>\n",
       "      <td>49413.0</td>\n",
       "      <td>71083.0</td>\n",
       "      <td>99998.0</td>\n",
       "    </tr>\n",
       "  </tbody>\n",
       "</table>\n",
       "</div>"
      ],
      "text/plain": [
       "                      count        mean        std     min       25%  \\\n",
       "Price              354369.0    4416.657   4514.159     0.0    1050.0   \n",
       "RegistrationYear   354369.0    2004.234     90.228  1000.0    1999.0   \n",
       "Power              354369.0     110.094    189.850     0.0      69.0   \n",
       "Kilometer          354369.0  128211.173  37905.342  5000.0  125000.0   \n",
       "RegistrationMonth  354369.0       5.715      3.726     0.0       3.0   \n",
       "NumberOfPictures   354369.0       0.000      0.000     0.0       0.0   \n",
       "PostalCode         354369.0   50508.689  25783.096  1067.0   30165.0   \n",
       "\n",
       "                        50%       75%       max  \n",
       "Price                2700.0    6400.0   20000.0  \n",
       "RegistrationYear     2003.0    2008.0    9999.0  \n",
       "Power                 105.0     143.0   20000.0  \n",
       "Kilometer          150000.0  150000.0  150000.0  \n",
       "RegistrationMonth       6.0       9.0      12.0  \n",
       "NumberOfPictures        0.0       0.0       0.0  \n",
       "PostalCode          49413.0   71083.0   99998.0  "
      ]
     },
     "execution_count": 6,
     "metadata": {},
     "output_type": "execute_result"
    }
   ],
   "source": [
    "#Выведем описание датафрейма\n",
    "data.describe().transpose().round(3)"
   ]
  },
  {
   "cell_type": "code",
   "execution_count": 7,
   "metadata": {},
   "outputs": [
    {
     "data": {
      "text/html": [
       "<div>\n",
       "<style scoped>\n",
       "    .dataframe tbody tr th:only-of-type {\n",
       "        vertical-align: middle;\n",
       "    }\n",
       "\n",
       "    .dataframe tbody tr th {\n",
       "        vertical-align: top;\n",
       "    }\n",
       "\n",
       "    .dataframe thead th {\n",
       "        text-align: right;\n",
       "    }\n",
       "</style>\n",
       "<table border=\"1\" class=\"dataframe\">\n",
       "  <thead>\n",
       "    <tr style=\"text-align: right;\">\n",
       "      <th></th>\n",
       "      <th>DateCrawled</th>\n",
       "      <th>Price</th>\n",
       "      <th>VehicleType</th>\n",
       "      <th>RegistrationYear</th>\n",
       "      <th>Gearbox</th>\n",
       "      <th>Power</th>\n",
       "      <th>Model</th>\n",
       "      <th>Kilometer</th>\n",
       "      <th>RegistrationMonth</th>\n",
       "      <th>FuelType</th>\n",
       "      <th>Brand</th>\n",
       "      <th>Repaired</th>\n",
       "      <th>DateCreated</th>\n",
       "      <th>NumberOfPictures</th>\n",
       "      <th>PostalCode</th>\n",
       "      <th>LastSeen</th>\n",
       "    </tr>\n",
       "  </thead>\n",
       "  <tbody>\n",
       "    <tr>\n",
       "      <th>90713</th>\n",
       "      <td>2016-04-07 14:36:58</td>\n",
       "      <td>3500</td>\n",
       "      <td>sedan</td>\n",
       "      <td>1999</td>\n",
       "      <td>manual</td>\n",
       "      <td>143</td>\n",
       "      <td>e_klasse</td>\n",
       "      <td>150000</td>\n",
       "      <td>8</td>\n",
       "      <td>gasoline</td>\n",
       "      <td>mercedes_benz</td>\n",
       "      <td>no</td>\n",
       "      <td>2016-04-07 00:00:00</td>\n",
       "      <td>0</td>\n",
       "      <td>64846</td>\n",
       "      <td>2016-04-07 14:36:58</td>\n",
       "    </tr>\n",
       "    <tr>\n",
       "      <th>339649</th>\n",
       "      <td>2016-04-07 14:36:56</td>\n",
       "      <td>8650</td>\n",
       "      <td>suv</td>\n",
       "      <td>1992</td>\n",
       "      <td>manual</td>\n",
       "      <td>121</td>\n",
       "      <td>wrangler</td>\n",
       "      <td>125000</td>\n",
       "      <td>5</td>\n",
       "      <td>petrol</td>\n",
       "      <td>jeep</td>\n",
       "      <td>no</td>\n",
       "      <td>2016-04-07 00:00:00</td>\n",
       "      <td>0</td>\n",
       "      <td>20357</td>\n",
       "      <td>2016-04-07 14:36:56</td>\n",
       "    </tr>\n",
       "    <tr>\n",
       "      <th>301030</th>\n",
       "      <td>2016-04-07 14:36:55</td>\n",
       "      <td>15200</td>\n",
       "      <td>wagon</td>\n",
       "      <td>2008</td>\n",
       "      <td>manual</td>\n",
       "      <td>190</td>\n",
       "      <td>a6</td>\n",
       "      <td>150000</td>\n",
       "      <td>9</td>\n",
       "      <td>gasoline</td>\n",
       "      <td>audi</td>\n",
       "      <td>no</td>\n",
       "      <td>2016-04-07 00:00:00</td>\n",
       "      <td>0</td>\n",
       "      <td>81476</td>\n",
       "      <td>2016-04-07 14:36:55</td>\n",
       "    </tr>\n",
       "    <tr>\n",
       "      <th>53739</th>\n",
       "      <td>2016-04-07 14:36:54</td>\n",
       "      <td>400</td>\n",
       "      <td>small</td>\n",
       "      <td>1996</td>\n",
       "      <td>manual</td>\n",
       "      <td>60</td>\n",
       "      <td>ibiza</td>\n",
       "      <td>150000</td>\n",
       "      <td>0</td>\n",
       "      <td>NaN</td>\n",
       "      <td>seat</td>\n",
       "      <td>NaN</td>\n",
       "      <td>2016-04-07 00:00:00</td>\n",
       "      <td>0</td>\n",
       "      <td>66299</td>\n",
       "      <td>2016-04-07 14:36:54</td>\n",
       "    </tr>\n",
       "    <tr>\n",
       "      <th>204218</th>\n",
       "      <td>2016-04-07 14:36:53</td>\n",
       "      <td>6990</td>\n",
       "      <td>coupe</td>\n",
       "      <td>1979</td>\n",
       "      <td>auto</td>\n",
       "      <td>143</td>\n",
       "      <td>3er</td>\n",
       "      <td>150000</td>\n",
       "      <td>6</td>\n",
       "      <td>petrol</td>\n",
       "      <td>bmw</td>\n",
       "      <td>no</td>\n",
       "      <td>2016-04-07 00:00:00</td>\n",
       "      <td>0</td>\n",
       "      <td>71336</td>\n",
       "      <td>2016-04-07 14:36:53</td>\n",
       "    </tr>\n",
       "  </tbody>\n",
       "</table>\n",
       "</div>"
      ],
      "text/plain": [
       "               DateCrawled  Price VehicleType  RegistrationYear Gearbox  \\\n",
       "90713  2016-04-07 14:36:58   3500       sedan              1999  manual   \n",
       "339649 2016-04-07 14:36:56   8650         suv              1992  manual   \n",
       "301030 2016-04-07 14:36:55  15200       wagon              2008  manual   \n",
       "53739  2016-04-07 14:36:54    400       small              1996  manual   \n",
       "204218 2016-04-07 14:36:53   6990       coupe              1979    auto   \n",
       "\n",
       "        Power     Model  Kilometer  RegistrationMonth  FuelType  \\\n",
       "90713     143  e_klasse     150000                  8  gasoline   \n",
       "339649    121  wrangler     125000                  5    petrol   \n",
       "301030    190        a6     150000                  9  gasoline   \n",
       "53739      60     ibiza     150000                  0       NaN   \n",
       "204218    143       3er     150000                  6    petrol   \n",
       "\n",
       "                Brand Repaired          DateCreated  NumberOfPictures  \\\n",
       "90713   mercedes_benz       no  2016-04-07 00:00:00                 0   \n",
       "339649           jeep       no  2016-04-07 00:00:00                 0   \n",
       "301030           audi       no  2016-04-07 00:00:00                 0   \n",
       "53739            seat      NaN  2016-04-07 00:00:00                 0   \n",
       "204218            bmw       no  2016-04-07 00:00:00                 0   \n",
       "\n",
       "        PostalCode             LastSeen  \n",
       "90713        64846  2016-04-07 14:36:58  \n",
       "339649       20357  2016-04-07 14:36:56  \n",
       "301030       81476  2016-04-07 14:36:55  \n",
       "53739        66299  2016-04-07 14:36:54  \n",
       "204218       71336  2016-04-07 14:36:53  "
      ]
     },
     "execution_count": 7,
     "metadata": {},
     "output_type": "execute_result"
    }
   ],
   "source": [
    "#Посмотрим, какая последня дата скачивания анкеты, чтобы понять текущую дату выгрузки\n",
    "data['DateCrawled'] = pd.to_datetime(data['DateCrawled'], format='%Y-%m-%d %H:%M:%S')\n",
    "data.sort_values('DateCrawled', ascending=False).head()"
   ]
  },
  {
   "cell_type": "markdown",
   "metadata": {},
   "source": [
    "Сразу же удалим признаки, которые нам не потребуется:\n",
    "* **RegistrationMonth** - года регистрации будет вполне достаточно;\n",
    "* **DateCrawled, DateCreated, LastSeen** - все даты, связанные с созданием объявлений и активностями пользователей, лишние\n",
    "* **PostalCode** - слишком индивидуальная информация о владельце, был бы хотя бы населенный пункт\n",
    "* **NumberOfPictures** - везде нули, это странно, но что имеем, то имеем"
   ]
  },
  {
   "cell_type": "code",
   "execution_count": 8,
   "metadata": {},
   "outputs": [],
   "source": [
    "#Удаляем ненужные признаки\n",
    "useless_features = ['RegistrationMonth', \n",
    "                    'DateCrawled', \n",
    "                    'DateCreated', \n",
    "                    'LastSeen', \n",
    "                    'PostalCode', \n",
    "                    'NumberOfPictures']\n",
    "\n",
    "new_columns = []\n",
    "for i in data.columns:\n",
    "    if i not in useless_features:\n",
    "        new_columns.append(i)\n",
    "        \n",
    "data_new = data[new_columns]"
   ]
  },
  {
   "cell_type": "code",
   "execution_count": 9,
   "metadata": {
    "scrolled": true
   },
   "outputs": [
    {
     "name": "stdout",
     "output_type": "stream",
     "text": [
      "VehicleType\n",
      "[nan 'coupe' 'suv' 'small' 'sedan' 'convertible' 'bus' 'wagon' 'other']\n",
      "\n",
      "Gearbox\n",
      "['manual' 'auto' nan]\n",
      "\n",
      "Model\n",
      "['golf' nan 'grand' 'fabia' '3er' '2_reihe' 'other' 'c_max' '3_reihe'\n",
      " 'passat' 'navara' 'ka' 'polo' 'twingo' 'a_klasse' 'scirocco' '5er'\n",
      " 'meriva' 'arosa' 'c4' 'civic' 'transporter' 'punto' 'e_klasse' 'clio'\n",
      " 'kadett' 'kangoo' 'corsa' 'one' 'fortwo' '1er' 'b_klasse' 'signum'\n",
      " 'astra' 'a8' 'jetta' 'fiesta' 'c_klasse' 'micra' 'vito' 'sprinter' '156'\n",
      " 'escort' 'forester' 'xc_reihe' 'scenic' 'a4' 'a1' 'insignia' 'combo'\n",
      " 'focus' 'tt' 'a6' 'jazz' 'omega' 'slk' '7er' '80' '147' '100' 'z_reihe'\n",
      " 'sportage' 'sorento' 'v40' 'ibiza' 'mustang' 'eos' 'touran' 'getz' 'a3'\n",
      " 'almera' 'megane' 'lupo' 'r19' 'zafira' 'caddy' 'mondeo' 'cordoba' 'colt'\n",
      " 'impreza' 'vectra' 'berlingo' 'tiguan' 'i_reihe' 'espace' 'sharan'\n",
      " '6_reihe' 'panda' 'up' 'seicento' 'ceed' '5_reihe' 'yeti' 'octavia' 'mii'\n",
      " 'rx_reihe' '6er' 'modus' 'fox' 'matiz' 'beetle' 'c1' 'rio' 'touareg'\n",
      " 'logan' 'spider' 'cuore' 's_max' 'a2' 'galaxy' 'c3' 'viano' 's_klasse'\n",
      " '1_reihe' 'avensis' 'roomster' 'sl' 'kaefer' 'santa' 'cooper' 'leon'\n",
      " '4_reihe' 'a5' '500' 'laguna' 'ptcruiser' 'clk' 'primera' 'x_reihe'\n",
      " 'exeo' '159' 'transit' 'juke' 'qashqai' 'carisma' 'accord' 'corolla'\n",
      " 'lanos' 'phaeton' 'verso' 'swift' 'rav' 'picanto' 'boxster' 'kalos'\n",
      " 'superb' 'stilo' 'alhambra' 'mx_reihe' 'roadster' 'ypsilon' 'cayenne'\n",
      " 'galant' 'justy' '90' 'sirion' 'crossfire' 'agila' 'duster' 'cr_reihe'\n",
      " 'v50' 'c_reihe' 'v_klasse' 'm_klasse' 'yaris' 'c5' 'aygo' 'cc' 'carnival'\n",
      " 'fusion' '911' 'bora' 'forfour' 'm_reihe' 'cl' 'tigra' '300c' 'spark'\n",
      " 'v70' 'kuga' 'x_type' 'ducato' 's_type' 'x_trail' 'toledo' 'altea'\n",
      " 'voyager' 'calibra' 'bravo' 'antara' 'tucson' 'citigo' 'jimny' 'wrangler'\n",
      " 'lybra' 'q7' 'lancer' 'captiva' 'c2' 'discovery' 'freelander' 'sandero'\n",
      " 'note' '900' 'cherokee' 'clubman' 'samara' 'defender' '601' 'cx_reihe'\n",
      " 'legacy' 'pajero' 'auris' 'niva' 's60' 'nubira' 'vivaro' 'g_klasse'\n",
      " 'lodgy' '850' 'range_rover' 'q3' 'serie_2' 'glk' 'charade' 'croma'\n",
      " 'outlander' 'doblo' 'musa' 'move' '9000' 'v60' '145' 'aveo' '200' 'b_max'\n",
      " 'range_rover_sport' 'terios' 'rangerover' 'q5' 'range_rover_evoque'\n",
      " 'materia' 'delta' 'gl' 'kalina' 'amarok' 'elefantino' 'i3' 'kappa'\n",
      " 'serie_3' 'serie_1']\n",
      "\n",
      "FuelType\n",
      "['petrol' 'gasoline' nan 'lpg' 'other' 'hybrid' 'cng' 'electric']\n",
      "\n",
      "Brand\n",
      "['volkswagen' 'audi' 'jeep' 'skoda' 'bmw' 'peugeot' 'ford' 'mazda'\n",
      " 'nissan' 'renault' 'mercedes_benz' 'opel' 'seat' 'citroen' 'honda' 'fiat'\n",
      " 'mini' 'smart' 'hyundai' 'sonstige_autos' 'alfa_romeo' 'subaru' 'volvo'\n",
      " 'mitsubishi' 'kia' 'suzuki' 'lancia' 'toyota' 'chevrolet' 'dacia'\n",
      " 'daihatsu' 'trabant' 'saab' 'chrysler' 'jaguar' 'daewoo' 'porsche'\n",
      " 'rover' 'land_rover' 'lada']\n",
      "\n",
      "Repaired\n",
      "[nan 'yes' 'no']\n",
      "\n"
     ]
    }
   ],
   "source": [
    "#Посмотрим, какие есть значения для категориальных признаков\n",
    "category_features = []\n",
    "for i in data_new.columns:\n",
    "    if i not in data_new.describe().columns:\n",
    "        category_features.append(i)\n",
    "        print(i)\n",
    "        print(data_new[i].unique())\n",
    "        print('')"
   ]
  },
  {
   "cell_type": "markdown",
   "metadata": {},
   "source": [
    "Можно сделать следующие выводы по небольшому анализу данных:\n",
    "* Пропущенные значения есть в **VehicleType, Gearbox, Model, FuelType, Repaired**\n",
    "* Выбросы есть в **RegistrationYear, Power**"
   ]
  },
  {
   "cell_type": "markdown",
   "metadata": {},
   "source": [
    "Отработаем выбросы. В случае с **RegistrationYear** значения мало вероятно могут быть больше 2023 и меньше 1950 (совсем невероятный раритет). Посмотрим, сколько их и какие они."
   ]
  },
  {
   "cell_type": "code",
   "execution_count": 10,
   "metadata": {},
   "outputs": [
    {
     "name": "stdout",
     "output_type": "stream",
     "text": [
      "351\n"
     ]
    }
   ],
   "source": [
    "#Отфильтруем таблицу по году регистрации\n",
    "print(data_new.loc[(data_new['RegistrationYear'] > 2023) | (data_new['RegistrationYear'] < 1950), 'RegistrationYear'].count())"
   ]
  },
  {
   "cell_type": "markdown",
   "metadata": {},
   "source": [
    "Всего 351 шт. вылетов, смело удалим их."
   ]
  },
  {
   "cell_type": "code",
   "execution_count": 11,
   "metadata": {},
   "outputs": [
    {
     "data": {
      "text/plain": [
       "(339593, 10)"
      ]
     },
     "execution_count": 11,
     "metadata": {},
     "output_type": "execute_result"
    }
   ],
   "source": [
    "#Удаляем выбросы по году регистрации\n",
    "data_new_1 = data_new.loc[(data_new['RegistrationYear'] <= 2016) & (data_new['RegistrationYear'] >= 1950)]\n",
    "data_new_1.shape"
   ]
  },
  {
   "cell_type": "markdown",
   "metadata": {},
   "source": [
    "В случае с **Power** большое количество значений с 0. Для замены необходимо отталкиваться от марки и модели авто. А для значений нереально высоких поставим ограничение 1100 л.с. "
   ]
  },
  {
   "cell_type": "code",
   "execution_count": 12,
   "metadata": {},
   "outputs": [
    {
     "data": {
      "text/plain": [
       "248"
      ]
     },
     "execution_count": 12,
     "metadata": {},
     "output_type": "execute_result"
    }
   ],
   "source": [
    "#Посмотрим, сколько значений больше 1100 в Power\n",
    "data_new_1.loc[data['Power'] > 1100, 'Power'].count()"
   ]
  },
  {
   "cell_type": "code",
   "execution_count": 13,
   "metadata": {},
   "outputs": [
    {
     "data": {
      "text/plain": [
       "(339345, 10)"
      ]
     },
     "execution_count": 13,
     "metadata": {},
     "output_type": "execute_result"
    }
   ],
   "source": [
    "#Смело их удаляем, их очень мало\n",
    "data_new_1 = data_new_1.loc[data_new_1['Power'] <= 1100]\n",
    "data_new_1.shape"
   ]
  },
  {
   "cell_type": "markdown",
   "metadata": {},
   "source": [
    "Теперь заменяем нулевые значения."
   ]
  },
  {
   "cell_type": "code",
   "execution_count": 14,
   "metadata": {},
   "outputs": [
    {
     "data": {
      "text/plain": [
       "0    golfvolkswagen\n",
       "1               NaN\n",
       "2         grandjeep\n",
       "3    golfvolkswagen\n",
       "4        fabiaskoda\n",
       "Name: Model_Brand, dtype: object"
      ]
     },
     "execution_count": 14,
     "metadata": {},
     "output_type": "execute_result"
    }
   ],
   "source": [
    "#Прибавим признаки Model и Brand друг к другу \n",
    "data_new_1['Model_Brand'] = data_new_1['Model'] + data_new_1['Brand']\n",
    "data_new_1['Model_Brand'].head()"
   ]
  },
  {
   "cell_type": "code",
   "execution_count": 15,
   "metadata": {},
   "outputs": [
    {
     "data": {
      "text/plain": [
       "Model_Brand\n",
       "100audi          137.345646\n",
       "145alfa_romeo    111.972222\n",
       "147alfa_romeo    120.656746\n",
       "156alfa_romeo    150.904085\n",
       "159alfa_romeo    173.196970\n",
       "Name: Power, dtype: float64"
      ]
     },
     "execution_count": 15,
     "metadata": {},
     "output_type": "execute_result"
    }
   ],
   "source": [
    "#Теперь отфильтруем, чтобы не было нулей и сделаем большую сводную таблицу\n",
    "data_new_1.loc[data_new_1['Power'] > 0].groupby('Model_Brand')['Power'].mean().head()"
   ]
  },
  {
   "cell_type": "code",
   "execution_count": 16,
   "metadata": {},
   "outputs": [
    {
     "data": {
      "image/png": "[encoded data removed]",
      "text/plain": [
       "<Figure size 1200x500 with 1 Axes>"
      ]
     },
     "metadata": {},
     "output_type": "display_data"
    }
   ],
   "source": [
    "#Построим столбчатую диаграмму для каждой категории\n",
    "plt.figure(figsize=(12,5)); \n",
    "plt.bar(data_new_1.loc[data_new_1['Power'] > 0].groupby('Model_Brand')['Power'].mean().index, \n",
    "        data_new_1.loc[data_new_1['Power'] > 0].groupby('Model_Brand')['Power'].mean(), \n",
    "        width=0.8);\n",
    "plt.xlabel('Model_Brand');\n",
    "plt.ylabel('Mean_power');"
   ]
  },
  {
   "cell_type": "markdown",
   "metadata": {},
   "source": [
    "Но так как размер выборки позволяет, лучше удалим все нулевые значения."
   ]
  },
  {
   "cell_type": "code",
   "execution_count": 17,
   "metadata": {},
   "outputs": [
    {
     "data": {
      "text/plain": [
       "36326"
      ]
     },
     "execution_count": 17,
     "metadata": {},
     "output_type": "execute_result"
    }
   ],
   "source": [
    "data_new_1.loc[data_new_1['Power'] == 0, 'Power'].count()"
   ]
  },
  {
   "cell_type": "code",
   "execution_count": 18,
   "metadata": {},
   "outputs": [
    {
     "data": {
      "text/plain": [
       "(303019, 11)"
      ]
     },
     "execution_count": 18,
     "metadata": {},
     "output_type": "execute_result"
    }
   ],
   "source": [
    "#Удалим данные нулевые значения, т.к. лучше их не менять\n",
    "data_new_1 = data_new_1.loc[data_new_1['Power'] > 0]\n",
    "data_new_1.shape"
   ]
  },
  {
   "cell_type": "code",
   "execution_count": 19,
   "metadata": {},
   "outputs": [
    {
     "data": {
      "image/png": "[encoded data removed]",
      "text/plain": [
       "<Figure size 1200x500 with 2 Axes>"
      ]
     },
     "metadata": {},
     "output_type": "display_data"
    }
   ],
   "source": [
    "#Посмотрим на диаграмму с усами для Power\n",
    "fig, axs = plt.subplots(nrows= 1 , ncols= 2, figsize=(12,5))\n",
    "\n",
    "plt.subplot(121)\n",
    "plt.boxplot(data_new_1['Power']);\n",
    "plt.ylabel('Power');\n",
    "\n",
    "plt.subplot(122)\n",
    "plt.boxplot(data_new_1['Power']);\n",
    "plt.ylim([0, 250]);\n",
    "plt.ylabel('Power');"
   ]
  },
  {
   "cell_type": "code",
   "execution_count": 20,
   "metadata": {},
   "outputs": [
    {
     "data": {
      "text/plain": [
       "(301356, 11)"
      ]
     },
     "execution_count": 20,
     "metadata": {},
     "output_type": "execute_result"
    }
   ],
   "source": [
    "#Уберем значения, которые меньше 60, т.к. в подавляющем большистве мощность автомобилей больше\n",
    "data_new_1 = data_new_1.loc[data_new_1['Power'] > 40]\n",
    "data_new_1.shape"
   ]
  },
  {
   "cell_type": "markdown",
   "metadata": {},
   "source": [
    "В случае с **Gearbox** и **FuelType** можно попробовать проследить, до какого года были машины только на ручной коробке и, допустим, на бензине.  "
   ]
  },
  {
   "cell_type": "code",
   "execution_count": 21,
   "metadata": {},
   "outputs": [
    {
     "data": {
      "text/plain": [
       "(301356, 11)"
      ]
     },
     "execution_count": 21,
     "metadata": {},
     "output_type": "execute_result"
    }
   ],
   "source": [
    "#Заменим все пропущенные значения в категориальных признаках VehicleType, Model, FuelType и Gearbox на unknown\n",
    "for i in ['VehicleType', 'Model', 'FuelType', 'Gearbox']:\n",
    "    data_new_1.loc[data[i].isna() == True, i] = 'unknown'\n",
    "\n",
    "data_new_1.shape"
   ]
  },
  {
   "cell_type": "markdown",
   "metadata": {},
   "source": [
    "Рассмотрим признак Repaired. Можно применить логику, что если машина в цене меньше, чем самая дешевая без ремонта, то она практически точно отремонтирована.  "
   ]
  },
  {
   "cell_type": "code",
   "execution_count": 22,
   "metadata": {},
   "outputs": [
    {
     "name": "stdout",
     "output_type": "stream",
     "text": [
      "Пустых значений до замены в Repaired: (44850,)\n",
      "Пустых значений после замены в Repaired: (44725,)\n"
     ]
    }
   ],
   "source": [
    "print(f'Пустых значений до замены в Repaired:', data_new_1.loc[data_new_1['Repaired'].isna() == True, 'Repaired'].shape)\n",
    "\n",
    "for i in data_new_1['Model_Brand'].unique():\n",
    "    min_price = data_new_1.loc[(data_new_1['Model_Brand'] == i) \n",
    "                               & (data_new_1['Repaired'] == 'no'), 'Price'].min()\n",
    "    data_new_1.loc[(data_new_1['Model_Brand'] == i)\n",
    "                   & (data_new_1['Price'] < min_price)\n",
    "                   & (data_new_1['Repaired'].isna() == True), 'Repaired'] = 'yes'\n",
    "\n",
    "print(f'Пустых значений после замены в Repaired:', data_new_1.loc[data_new_1['Repaired'].isna() == True, 'Repaired'].shape)"
   ]
  },
  {
   "cell_type": "markdown",
   "metadata": {},
   "source": [
    "Удалось поменять не так много значений, но зато мы в этой замене праткически полностью уверены. Остальные значения просто меняем на **yes** по той логике, что если человек не указал про ремонт, то она точно битая. "
   ]
  },
  {
   "cell_type": "code",
   "execution_count": 23,
   "metadata": {
    "scrolled": true
   },
   "outputs": [
    {
     "data": {
      "text/plain": [
       "(301356, 11)"
      ]
     },
     "execution_count": 23,
     "metadata": {},
     "output_type": "execute_result"
    }
   ],
   "source": [
    "#Удаляем строки с пропущенными значениями в признаке Repaired\n",
    "data_new_1.loc[data['Repaired'].isna() == True, 'Repaired'] = 'yes'\n",
    "data_new_1.shape"
   ]
  },
  {
   "cell_type": "code",
   "execution_count": 24,
   "metadata": {},
   "outputs": [
    {
     "name": "stdout",
     "output_type": "stream",
     "text": [
      "<class 'pandas.core.frame.DataFrame'>\n",
      "Int64Index: 295034 entries, 1 to 354368\n",
      "Data columns (total 11 columns):\n",
      " #   Column            Non-Null Count   Dtype \n",
      "---  ------            --------------   ----- \n",
      " 0   Price             295034 non-null  int64 \n",
      " 1   VehicleType       295034 non-null  object\n",
      " 2   RegistrationYear  295034 non-null  int64 \n",
      " 3   Gearbox           295034 non-null  object\n",
      " 4   Power             295034 non-null  int64 \n",
      " 5   Model             295034 non-null  object\n",
      " 6   Kilometer         295034 non-null  int64 \n",
      " 7   FuelType          295034 non-null  object\n",
      " 8   Brand             295034 non-null  object\n",
      " 9   Repaired          295034 non-null  object\n",
      " 10  Model_Brand       284148 non-null  object\n",
      "dtypes: int64(4), object(7)\n",
      "memory usage: 27.0+ MB\n"
     ]
    }
   ],
   "source": [
    "#Удалим нулевые значения из Price\n",
    "data_new_1 = data_new_1.loc[data_new_1['Price'] > 0]\n",
    "data_new_1.info()"
   ]
  },
  {
   "cell_type": "code",
   "execution_count": 25,
   "metadata": {},
   "outputs": [
    {
     "data": {
      "image/png": "[encoded data removed]",
      "text/plain": [
       "<Figure size 1500x800 with 4 Axes>"
      ]
     },
     "metadata": {},
     "output_type": "display_data"
    }
   ],
   "source": [
    "#Создадим итоговый датафрейм, с которым впоследствии будем работать\n",
    "data_finish = data_new_1.drop('Model_Brand', axis=1)\n",
    "data_finish.hist(figsize=(15,8), bins=100);"
   ]
  },
  {
   "cell_type": "code",
   "execution_count": 26,
   "metadata": {},
   "outputs": [
    {
     "data": {
      "image/png": "[encoded data removed]",
      "text/plain": [
       "<Figure size 640x480 with 2 Axes>"
      ]
     },
     "metadata": {},
     "output_type": "display_data"
    },
    {
     "data": {
      "image/png": "[encoded data removed]",
      "text/plain": [
       "<Figure size 640x480 with 2 Axes>"
      ]
     },
     "metadata": {},
     "output_type": "display_data"
    },
    {
     "data": {
      "image/png": "[encoded data removed]",
      "text/plain": [
       "<Figure size 640x480 with 2 Axes>"
      ]
     },
     "metadata": {},
     "output_type": "display_data"
    }
   ],
   "source": [
    "#Выведем тепловую карту, чтобы понять, какие параметры наибольшим образом коррелируют между собой\n",
    "plt.figure()\n",
    "plt.title('Пирсон')\n",
    "sns.heatmap(data_finish.corr(method='pearson'), annot=True, fmt='.1g');\n",
    "plt.figure()\n",
    "plt.title('Спирмен')\n",
    "sns.heatmap(data_finish.corr(method='spearman'), annot=True, fmt='.1g');\n",
    "\n",
    "#Выделим некатегориальные признаки в отдельный список\n",
    "int_list = list(data_finish.select_dtypes(exclude=['object']).columns)\n",
    "\n",
    "#Используем phik\n",
    "plt.figure()\n",
    "plt.title('Phi_K')\n",
    "sns.heatmap(data_finish.phik_matrix(int_list), annot=True, fmt='.1g');"
   ]
  },
  {
   "cell_type": "code",
   "execution_count": 27,
   "metadata": {},
   "outputs": [
    {
     "data": {
      "text/html": [
       "<div>\n",
       "<style scoped>\n",
       "    .dataframe tbody tr th:only-of-type {\n",
       "        vertical-align: middle;\n",
       "    }\n",
       "\n",
       "    .dataframe tbody tr th {\n",
       "        vertical-align: top;\n",
       "    }\n",
       "\n",
       "    .dataframe thead th {\n",
       "        text-align: right;\n",
       "    }\n",
       "</style>\n",
       "<table border=\"1\" class=\"dataframe\">\n",
       "  <thead>\n",
       "    <tr style=\"text-align: right;\">\n",
       "      <th></th>\n",
       "      <th>feature</th>\n",
       "      <th>VIF</th>\n",
       "    </tr>\n",
       "  </thead>\n",
       "  <tbody>\n",
       "    <tr>\n",
       "      <th>0</th>\n",
       "      <td>Price</td>\n",
       "      <td>3.745</td>\n",
       "    </tr>\n",
       "    <tr>\n",
       "      <th>1</th>\n",
       "      <td>RegistrationYear</td>\n",
       "      <td>20.498</td>\n",
       "    </tr>\n",
       "    <tr>\n",
       "      <th>2</th>\n",
       "      <td>Power</td>\n",
       "      <td>8.784</td>\n",
       "    </tr>\n",
       "    <tr>\n",
       "      <th>3</th>\n",
       "      <td>Kilometer</td>\n",
       "      <td>17.985</td>\n",
       "    </tr>\n",
       "  </tbody>\n",
       "</table>\n",
       "</div>"
      ],
      "text/plain": [
       "            feature     VIF\n",
       "0             Price   3.745\n",
       "1  RegistrationYear  20.498\n",
       "2             Power   8.784\n",
       "3         Kilometer  17.985"
      ]
     },
     "execution_count": 27,
     "metadata": {},
     "output_type": "execute_result"
    }
   ],
   "source": [
    "#Выведем теперь параметр VIF для поиска коллинеарных признаков \n",
    "vif_data = pd.DataFrame()\n",
    "vif_data['feature'] = data_finish[int_list].columns\n",
    "vif_data['VIF'] = [variance_inflation_factor(data_finish[int_list].values, i) for i in range(len(data_finish[int_list].columns))]\n",
    "vif_data.round(3)"
   ]
  },
  {
   "cell_type": "markdown",
   "metadata": {},
   "source": [
    "Можно сделать вывод, что наша прогнозная переменная **Price** обладает умеренной корреляцией, а все сотальные числовые переменные достаточно сильно коллинеарны, особенно между собой **Год регистрации** и **Пробег**. Но так как нас интересует **Price**, то смысла бороться с коллинеарностью нету. Тем более мультиколлениарность сильно влияет в основном на регрессионные модели (особенно линейную), а в данном проекте будут использованы в основном бустинговые модели и модели деревьев."
   ]
  },
  {
   "cell_type": "markdown",
   "metadata": {},
   "source": [
    "**Выводы:**\n",
    "\n",
    "1) Вылеты устранены, пропущенные значения заполнены или удалены;\\\n",
    "2) На цену в большей степени влияет год регистрации и модель."
   ]
  },
  {
   "cell_type": "markdown",
   "metadata": {},
   "source": [
    "## Обучение моделей"
   ]
  },
  {
   "cell_type": "code",
   "execution_count": 28,
   "metadata": {},
   "outputs": [
    {
     "name": "stdout",
     "output_type": "stream",
     "text": [
      "(236027, 9)\n",
      "(236027,)\n",
      "(59007, 9)\n",
      "(59007,)\n"
     ]
    }
   ],
   "source": [
    "#Разделим данные на выборки 80:20, так как в дальнейшей будем применена кросс-валидация (80 станет 60:20)\n",
    "features = data_finish.drop('Price', axis=1)\n",
    "target = data_finish['Price']\n",
    "\n",
    "features_train, features_test, target_train, target_test = train_test_split(\n",
    "    features, target, test_size=0.2, random_state=12345)\n",
    "\n",
    "print(features_train.shape)\n",
    "print(target_train.shape)\n",
    "print(features_test.shape)\n",
    "print(target_test.shape)"
   ]
  },
  {
   "cell_type": "markdown",
   "metadata": {},
   "source": [
    "Применим метод OHE к категориальным данным для преобразования категориальных признаков в числовые"
   ]
  },
  {
   "cell_type": "code",
   "execution_count": 29,
   "metadata": {},
   "outputs": [
    {
     "name": "stdout",
     "output_type": "stream",
     "text": [
      "['VehicleType', 'Gearbox', 'Model', 'FuelType', 'Brand', 'Repaired']\n"
     ]
    }
   ],
   "source": [
    "columns_ohe = []\n",
    "for i in data_finish.columns:\n",
    "    if i not in data_finish.describe().columns:\n",
    "        columns_ohe.append(i)\n",
    "print(columns_ohe)"
   ]
  },
  {
   "cell_type": "code",
   "execution_count": 30,
   "metadata": {
    "scrolled": true
   },
   "outputs": [
    {
     "data": {
      "text/html": [
       "<div>\n",
       "<style scoped>\n",
       "    .dataframe tbody tr th:only-of-type {\n",
       "        vertical-align: middle;\n",
       "    }\n",
       "\n",
       "    .dataframe tbody tr th {\n",
       "        vertical-align: top;\n",
       "    }\n",
       "\n",
       "    .dataframe thead th {\n",
       "        text-align: right;\n",
       "    }\n",
       "</style>\n",
       "<table border=\"1\" class=\"dataframe\">\n",
       "  <thead>\n",
       "    <tr style=\"text-align: right;\">\n",
       "      <th></th>\n",
       "      <th>RegistrationYear</th>\n",
       "      <th>Power</th>\n",
       "      <th>Kilometer</th>\n",
       "      <th>VehicleType_convertible</th>\n",
       "      <th>VehicleType_coupe</th>\n",
       "      <th>VehicleType_other</th>\n",
       "      <th>VehicleType_sedan</th>\n",
       "      <th>VehicleType_small</th>\n",
       "      <th>VehicleType_suv</th>\n",
       "      <th>VehicleType_unknown</th>\n",
       "      <th>...</th>\n",
       "      <th>Brand_skoda</th>\n",
       "      <th>Brand_smart</th>\n",
       "      <th>Brand_sonstige_autos</th>\n",
       "      <th>Brand_subaru</th>\n",
       "      <th>Brand_suzuki</th>\n",
       "      <th>Brand_toyota</th>\n",
       "      <th>Brand_trabant</th>\n",
       "      <th>Brand_volkswagen</th>\n",
       "      <th>Brand_volvo</th>\n",
       "      <th>Repaired_yes</th>\n",
       "    </tr>\n",
       "  </thead>\n",
       "  <tbody>\n",
       "    <tr>\n",
       "      <th>198950</th>\n",
       "      <td>2002</td>\n",
       "      <td>107</td>\n",
       "      <td>150000</td>\n",
       "      <td>0.0</td>\n",
       "      <td>0.0</td>\n",
       "      <td>0.0</td>\n",
       "      <td>0.0</td>\n",
       "      <td>1.0</td>\n",
       "      <td>0.0</td>\n",
       "      <td>0.0</td>\n",
       "      <td>...</td>\n",
       "      <td>0.0</td>\n",
       "      <td>0.0</td>\n",
       "      <td>0.0</td>\n",
       "      <td>0.0</td>\n",
       "      <td>0.0</td>\n",
       "      <td>0.0</td>\n",
       "      <td>0.0</td>\n",
       "      <td>0.0</td>\n",
       "      <td>0.0</td>\n",
       "      <td>0.0</td>\n",
       "    </tr>\n",
       "    <tr>\n",
       "      <th>274027</th>\n",
       "      <td>2002</td>\n",
       "      <td>90</td>\n",
       "      <td>150000</td>\n",
       "      <td>0.0</td>\n",
       "      <td>0.0</td>\n",
       "      <td>0.0</td>\n",
       "      <td>1.0</td>\n",
       "      <td>0.0</td>\n",
       "      <td>0.0</td>\n",
       "      <td>0.0</td>\n",
       "      <td>...</td>\n",
       "      <td>1.0</td>\n",
       "      <td>0.0</td>\n",
       "      <td>0.0</td>\n",
       "      <td>0.0</td>\n",
       "      <td>0.0</td>\n",
       "      <td>0.0</td>\n",
       "      <td>0.0</td>\n",
       "      <td>0.0</td>\n",
       "      <td>0.0</td>\n",
       "      <td>0.0</td>\n",
       "    </tr>\n",
       "    <tr>\n",
       "      <th>267207</th>\n",
       "      <td>1992</td>\n",
       "      <td>196</td>\n",
       "      <td>30000</td>\n",
       "      <td>0.0</td>\n",
       "      <td>0.0</td>\n",
       "      <td>0.0</td>\n",
       "      <td>1.0</td>\n",
       "      <td>0.0</td>\n",
       "      <td>0.0</td>\n",
       "      <td>0.0</td>\n",
       "      <td>...</td>\n",
       "      <td>0.0</td>\n",
       "      <td>0.0</td>\n",
       "      <td>0.0</td>\n",
       "      <td>0.0</td>\n",
       "      <td>0.0</td>\n",
       "      <td>0.0</td>\n",
       "      <td>0.0</td>\n",
       "      <td>1.0</td>\n",
       "      <td>0.0</td>\n",
       "      <td>1.0</td>\n",
       "    </tr>\n",
       "    <tr>\n",
       "      <th>320703</th>\n",
       "      <td>1999</td>\n",
       "      <td>122</td>\n",
       "      <td>150000</td>\n",
       "      <td>0.0</td>\n",
       "      <td>0.0</td>\n",
       "      <td>0.0</td>\n",
       "      <td>0.0</td>\n",
       "      <td>0.0</td>\n",
       "      <td>0.0</td>\n",
       "      <td>0.0</td>\n",
       "      <td>...</td>\n",
       "      <td>0.0</td>\n",
       "      <td>0.0</td>\n",
       "      <td>0.0</td>\n",
       "      <td>0.0</td>\n",
       "      <td>0.0</td>\n",
       "      <td>0.0</td>\n",
       "      <td>0.0</td>\n",
       "      <td>0.0</td>\n",
       "      <td>0.0</td>\n",
       "      <td>0.0</td>\n",
       "    </tr>\n",
       "    <tr>\n",
       "      <th>3331</th>\n",
       "      <td>2011</td>\n",
       "      <td>170</td>\n",
       "      <td>80000</td>\n",
       "      <td>0.0</td>\n",
       "      <td>0.0</td>\n",
       "      <td>0.0</td>\n",
       "      <td>1.0</td>\n",
       "      <td>0.0</td>\n",
       "      <td>0.0</td>\n",
       "      <td>0.0</td>\n",
       "      <td>...</td>\n",
       "      <td>0.0</td>\n",
       "      <td>0.0</td>\n",
       "      <td>0.0</td>\n",
       "      <td>0.0</td>\n",
       "      <td>0.0</td>\n",
       "      <td>0.0</td>\n",
       "      <td>0.0</td>\n",
       "      <td>1.0</td>\n",
       "      <td>0.0</td>\n",
       "      <td>0.0</td>\n",
       "    </tr>\n",
       "  </tbody>\n",
       "</table>\n",
       "<p>5 rows × 309 columns</p>\n",
       "</div>"
      ],
      "text/plain": [
       "        RegistrationYear  Power  Kilometer  VehicleType_convertible  \\\n",
       "198950              2002    107     150000                      0.0   \n",
       "274027              2002     90     150000                      0.0   \n",
       "267207              1992    196      30000                      0.0   \n",
       "320703              1999    122     150000                      0.0   \n",
       "3331                2011    170      80000                      0.0   \n",
       "\n",
       "        VehicleType_coupe  VehicleType_other  VehicleType_sedan  \\\n",
       "198950                0.0                0.0                0.0   \n",
       "274027                0.0                0.0                1.0   \n",
       "267207                0.0                0.0                1.0   \n",
       "320703                0.0                0.0                0.0   \n",
       "3331                  0.0                0.0                1.0   \n",
       "\n",
       "        VehicleType_small  VehicleType_suv  VehicleType_unknown  ...  \\\n",
       "198950                1.0              0.0                  0.0  ...   \n",
       "274027                0.0              0.0                  0.0  ...   \n",
       "267207                0.0              0.0                  0.0  ...   \n",
       "320703                0.0              0.0                  0.0  ...   \n",
       "3331                  0.0              0.0                  0.0  ...   \n",
       "\n",
       "        Brand_skoda  Brand_smart  Brand_sonstige_autos  Brand_subaru  \\\n",
       "198950          0.0          0.0                   0.0           0.0   \n",
       "274027          1.0          0.0                   0.0           0.0   \n",
       "267207          0.0          0.0                   0.0           0.0   \n",
       "320703          0.0          0.0                   0.0           0.0   \n",
       "3331            0.0          0.0                   0.0           0.0   \n",
       "\n",
       "        Brand_suzuki  Brand_toyota  Brand_trabant  Brand_volkswagen  \\\n",
       "198950           0.0           0.0            0.0               0.0   \n",
       "274027           0.0           0.0            0.0               0.0   \n",
       "267207           0.0           0.0            0.0               1.0   \n",
       "320703           0.0           0.0            0.0               0.0   \n",
       "3331             0.0           0.0            0.0               1.0   \n",
       "\n",
       "        Brand_volvo  Repaired_yes  \n",
       "198950          0.0           0.0  \n",
       "274027          0.0           0.0  \n",
       "267207          0.0           1.0  \n",
       "320703          0.0           0.0  \n",
       "3331            0.0           0.0  \n",
       "\n",
       "[5 rows x 309 columns]"
      ]
     },
     "execution_count": 30,
     "metadata": {},
     "output_type": "execute_result"
    }
   ],
   "source": [
    "encoder_ohe = OneHotEncoder(drop='first', handle_unknown='ignore', sparse=False)\n",
    "encoder_ohe.fit(features_train[columns_ohe])\n",
    "\n",
    "features_train_ohe = features_train.copy()\n",
    "features_test_ohe = features_test.copy()\n",
    "\n",
    "features_train_ohe[encoder_ohe.get_feature_names_out()] = encoder_ohe.transform(features_train_ohe[columns_ohe])\n",
    "features_test_ohe[encoder_ohe.get_feature_names_out()] = encoder_ohe.transform(features_test_ohe[columns_ohe])\n",
    "\n",
    "features_train_ohe = features_train_ohe.drop(columns_ohe, axis=1)\n",
    "features_test_ohe = features_test_ohe.drop(columns_ohe, axis=1)\n",
    "\n",
    "features_train_ohe.head()"
   ]
  },
  {
   "cell_type": "markdown",
   "metadata": {},
   "source": [
    "Применим также метод OrdinalEncoder к категориальным данным для преобразования категориальных признаков в числовые"
   ]
  },
  {
   "cell_type": "code",
   "execution_count": 31,
   "metadata": {},
   "outputs": [
    {
     "data": {
      "text/html": [
       "<div>\n",
       "<style scoped>\n",
       "    .dataframe tbody tr th:only-of-type {\n",
       "        vertical-align: middle;\n",
       "    }\n",
       "\n",
       "    .dataframe tbody tr th {\n",
       "        vertical-align: top;\n",
       "    }\n",
       "\n",
       "    .dataframe thead th {\n",
       "        text-align: right;\n",
       "    }\n",
       "</style>\n",
       "<table border=\"1\" class=\"dataframe\">\n",
       "  <thead>\n",
       "    <tr style=\"text-align: right;\">\n",
       "      <th></th>\n",
       "      <th>VehicleType</th>\n",
       "      <th>RegistrationYear</th>\n",
       "      <th>Gearbox</th>\n",
       "      <th>Power</th>\n",
       "      <th>Model</th>\n",
       "      <th>Kilometer</th>\n",
       "      <th>FuelType</th>\n",
       "      <th>Brand</th>\n",
       "      <th>Repaired</th>\n",
       "    </tr>\n",
       "  </thead>\n",
       "  <tbody>\n",
       "    <tr>\n",
       "      <th>198950</th>\n",
       "      <td>5.0</td>\n",
       "      <td>2002</td>\n",
       "      <td>1.0</td>\n",
       "      <td>107</td>\n",
       "      <td>75.0</td>\n",
       "      <td>150000</td>\n",
       "      <td>6.0</td>\n",
       "      <td>27.0</td>\n",
       "      <td>0.0</td>\n",
       "    </tr>\n",
       "    <tr>\n",
       "      <th>274027</th>\n",
       "      <td>4.0</td>\n",
       "      <td>2002</td>\n",
       "      <td>1.0</td>\n",
       "      <td>90</td>\n",
       "      <td>163.0</td>\n",
       "      <td>150000</td>\n",
       "      <td>2.0</td>\n",
       "      <td>31.0</td>\n",
       "      <td>0.0</td>\n",
       "    </tr>\n",
       "    <tr>\n",
       "      <th>267207</th>\n",
       "      <td>4.0</td>\n",
       "      <td>1992</td>\n",
       "      <td>1.0</td>\n",
       "      <td>196</td>\n",
       "      <td>116.0</td>\n",
       "      <td>30000</td>\n",
       "      <td>6.0</td>\n",
       "      <td>38.0</td>\n",
       "      <td>1.0</td>\n",
       "    </tr>\n",
       "    <tr>\n",
       "      <th>320703</th>\n",
       "      <td>0.0</td>\n",
       "      <td>1999</td>\n",
       "      <td>1.0</td>\n",
       "      <td>122</td>\n",
       "      <td>233.0</td>\n",
       "      <td>150000</td>\n",
       "      <td>2.0</td>\n",
       "      <td>20.0</td>\n",
       "      <td>0.0</td>\n",
       "    </tr>\n",
       "    <tr>\n",
       "      <th>3331</th>\n",
       "      <td>4.0</td>\n",
       "      <td>2011</td>\n",
       "      <td>0.0</td>\n",
       "      <td>170</td>\n",
       "      <td>116.0</td>\n",
       "      <td>80000</td>\n",
       "      <td>2.0</td>\n",
       "      <td>38.0</td>\n",
       "      <td>0.0</td>\n",
       "    </tr>\n",
       "  </tbody>\n",
       "</table>\n",
       "</div>"
      ],
      "text/plain": [
       "        VehicleType  RegistrationYear  Gearbox  Power  Model  Kilometer  \\\n",
       "198950          5.0              2002      1.0    107   75.0     150000   \n",
       "274027          4.0              2002      1.0     90  163.0     150000   \n",
       "267207          4.0              1992      1.0    196  116.0      30000   \n",
       "320703          0.0              1999      1.0    122  233.0     150000   \n",
       "3331            4.0              2011      0.0    170  116.0      80000   \n",
       "\n",
       "        FuelType  Brand  Repaired  \n",
       "198950       6.0   27.0       0.0  \n",
       "274027       2.0   31.0       0.0  \n",
       "267207       6.0   38.0       1.0  \n",
       "320703       2.0   20.0       0.0  \n",
       "3331         2.0   38.0       0.0  "
      ]
     },
     "execution_count": 31,
     "metadata": {},
     "output_type": "execute_result"
    }
   ],
   "source": [
    "encoder_ord = OrdinalEncoder()\n",
    "encoder_ord.fit(features_train[columns_ohe])\n",
    "\n",
    "features_train_ord = features_train.copy()\n",
    "features_test_ord = features_test.copy()\n",
    "\n",
    "features_train_ord[encoder_ord.get_feature_names_out()] = encoder_ord.transform(features_train_ord[columns_ohe])\n",
    "features_test_ord[encoder_ord.get_feature_names_out()] = encoder_ord.transform(features_test_ord[columns_ohe])\n",
    "\n",
    "features_train_ord.head()"
   ]
  },
  {
   "cell_type": "markdown",
   "metadata": {},
   "source": [
    "Используем для сравнения 5 моделей: LightGBM, Catboost, RandomForestRegressor, LinearRegression, DecisionTreeRegressor"
   ]
  },
  {
   "cell_type": "code",
   "execution_count": 32,
   "metadata": {},
   "outputs": [],
   "source": [
    "#Добавим новую метрику rmse\n",
    "def rmse_score(target, predictions):\n",
    "    score = mean_squared_error(target, predictions) ** 0.5\n",
    "    return score\n",
    "\n",
    "rmse = make_scorer(rmse_score, greater_is_better = False)"
   ]
  },
  {
   "cell_type": "code",
   "execution_count": 33,
   "metadata": {},
   "outputs": [],
   "source": [
    "best_score_set = []"
   ]
  },
  {
   "cell_type": "code",
   "execution_count": 34,
   "metadata": {},
   "outputs": [
    {
     "name": "stdout",
     "output_type": "stream",
     "text": [
      "--------------------\n",
      "Для LGBM:\n",
      "Лучшая модель: LGBMRegressor(max_depth=None, n_estimators=460, random_state=12345, verbose=-1)\n",
      "Лучшие гиперпараметры: {'n_estimators': 460, 'max_depth': None}\n",
      "Лучший RMSE: 1596.26\n"
     ]
    }
   ],
   "source": [
    "#Используем LightGBM вместе с RandomizedSearchCV\n",
    "LGBM = lgb.LGBMRegressor(verbose=-1, n_jobs=-1, random_state=12345)\n",
    "\n",
    "rs_space={'max_depth':([None] + [i for i in range(2, 7)]),\n",
    "          'n_estimators':np.arange(10, 500, 50),\n",
    "         }\n",
    "\n",
    "LGBM_random = RandomizedSearchCV(LGBM, rs_space, n_iter=100, scoring=rmse, cv=3)\n",
    "model_random = LGBM_random.fit(features_train_ord, target_train)\n",
    "\n",
    "best_model_LightGBM = model_random.best_estimator_\n",
    "\n",
    "best_score_set.append((-1) * round(model_random.best_score_, 3))\n",
    "\n",
    "print(20 * '-')\n",
    "print('Для LGBM:')\n",
    "print('Лучшая модель:', best_model_LightGBM)\n",
    "print('Лучшие гиперпараметры:', model_random.best_params_)\n",
    "print('Лучший RMSE:', (-1) * round(model_random.best_score_, 3))"
   ]
  },
  {
   "cell_type": "code",
   "execution_count": 36,
   "metadata": {},
   "outputs": [
    {
     "name": "stdout",
     "output_type": "stream",
     "text": [
      "--------------------\n",
      "Для catboost:\n",
      "Лучшая модель: <catboost.core.CatBoostRegressor object at 0x0000015F020FEC10>\n",
      "Лучшие гиперпараметры: {'max_depth': 6, 'iterations': 460}\n",
      "Лучший RMSE: 1632.254\n"
     ]
    }
   ],
   "source": [
    "#Используем Catboost вместе с RandomizedSearchCV\n",
    "catboost = CatBoostRegressor(verbose=0, random_state=12345)\n",
    "\n",
    "rs_space={'max_depth':[None] + [i for i in range(2, 7)],\n",
    "          'iterations':np.arange(10, 500, 50),\n",
    "         }\n",
    "\n",
    "catboost_random = RandomizedSearchCV(catboost, rs_space, n_iter=50, scoring=rmse, cv=3)\n",
    "model_random = catboost_random.fit(features_train_ord, target_train)\n",
    "\n",
    "best_model_catboost = model_random.best_estimator_\n",
    "\n",
    "best_score_set.append((-1) * round(model_random.best_score_, 3))\n",
    "\n",
    "print(20 * '-')\n",
    "print('Для catboost:')\n",
    "print('Лучшая модель:', best_model_catboost)\n",
    "print('Лучшие гиперпараметры:', model_random.best_params_)\n",
    "print('Лучший RMSE:', (-1) * round(model_random.best_score_, 3))"
   ]
  },
  {
   "cell_type": "code",
   "execution_count": 37,
   "metadata": {},
   "outputs": [
    {
     "name": "stdout",
     "output_type": "stream",
     "text": [
      "--------------------\n",
      "Для RF:\n",
      "Лучшая модель: RandomForestRegressor(n_estimators=91, n_jobs=-1, random_state=12345)\n",
      "Лучшие гиперпараметры: {'n_estimators': 91, 'max_depth': None}\n",
      "Лучший RMSE: 1634.354\n"
     ]
    }
   ],
   "source": [
    "#Используем RandomForestRegressor вместе с RandomizedSearchCV\n",
    "RF = RandomForestRegressor(verbose=0, n_jobs=-1, random_state=12345)\n",
    "\n",
    "rs_space={'max_depth':[None] + [i for i in range(2, 7)],\n",
    "          'n_estimators':np.arange(1, 100, 2),\n",
    "         }\n",
    "\n",
    "RF_random = RandomizedSearchCV(RF, rs_space, n_iter=100, scoring=rmse, cv=3)\n",
    "model_random = RF_random.fit(features_train_ord, target_train)\n",
    "\n",
    "best_model_RF = model_random.best_estimator_\n",
    "\n",
    "best_score_set.append((-1) * round(model_random.best_score_, 3))\n",
    "\n",
    "print(20 * '-')\n",
    "print('Для RF:')\n",
    "print('Лучшая модель:', best_model_RF)\n",
    "print('Лучшие гиперпараметры:', model_random.best_params_)\n",
    "print('Лучший RMSE:', (-1) * round(model_random.best_score_, 3))\n",
    "\n",
    "#P.S. Невероятно долго считает, поэтому был выбран небольшой диапазон параметров"
   ]
  },
  {
   "cell_type": "code",
   "execution_count": 38,
   "metadata": {},
   "outputs": [
    {
     "name": "stdout",
     "output_type": "stream",
     "text": [
      "--------------------\n",
      "Для DT:\n",
      "Лучшая модель: DecisionTreeRegressor(random_state=12345)\n",
      "Лучшие гиперпараметры: {'max_depth': None}\n",
      "Лучший RMSE: 2000.719\n"
     ]
    }
   ],
   "source": [
    "#Используем DecisionTreeRegressor вместе с RandomizedSearchCV\n",
    "DT = DecisionTreeRegressor(random_state=12345)\n",
    "\n",
    "rs_space={'max_depth':[None] + [i for i in range(2, 7)]}\n",
    "\n",
    "DT_random = RandomizedSearchCV(DT, rs_space, n_iter=100, scoring=rmse, cv=3)\n",
    "model_random = DT_random.fit(features_train_ord, target_train)\n",
    "\n",
    "best_model_DT = model_random.best_estimator_\n",
    "\n",
    "best_score_set.append((-1) * round(model_random.best_score_, 3))\n",
    "\n",
    "print(20 * '-')\n",
    "print('Для DT:')\n",
    "print('Лучшая модель:', best_model_DT)\n",
    "print('Лучшие гиперпараметры:', model_random.best_params_)\n",
    "print('Лучший RMSE:', (-1) * round(model_random.best_score_, 3))"
   ]
  },
  {
   "cell_type": "code",
   "execution_count": 39,
   "metadata": {},
   "outputs": [
    {
     "name": "stdout",
     "output_type": "stream",
     "text": [
      "Лучший RMSE: 2603.45\n"
     ]
    }
   ],
   "source": [
    "#Используем LinearRegression вместе с RandomizedSearchCV для OHE\n",
    "LR = LinearRegression()\n",
    "\n",
    "rs_space={}\n",
    "\n",
    "LR_random = RandomizedSearchCV(LR, rs_space, n_iter=1, scoring=rmse, cv=3)\n",
    "model_random = LR_random.fit(features_train_ohe, target_train)\n",
    "\n",
    "best_model_LR = LinearRegression()\n",
    "\n",
    "best_score_set.append((-1) * round(model_random.best_score_, 3))\n",
    "\n",
    "print('Лучший RMSE:', (-1) * round(model_random.best_score_, 3))"
   ]
  },
  {
   "cell_type": "markdown",
   "metadata": {},
   "source": [
    "**Выводы:**\n",
    "\n",
    "1) 5 моделей обучены с разными гимерпараметрами с помощью RandomizedSearchCV и встроенной кросс-валидации\n",
    "* LGBM \n",
    "* Catboost \n",
    "* Случайный лес \n",
    "* Дерево решений \n",
    "* Линейная регрессия\n",
    "\n",
    "2) Выбраны лучшие модели по значению RMSE. Для моделей LGBM, Catboost, Случайный лес и Дерево решений **RMSE получился значительно меньше 2500**"
   ]
  },
  {
   "cell_type": "markdown",
   "metadata": {},
   "source": [
    "## Анализ моделей"
   ]
  },
  {
   "cell_type": "markdown",
   "metadata": {},
   "source": [
    "С RMSE разобрались, теперь посмотрим время обучения и предсказания каждой из полученной модели."
   ]
  },
  {
   "cell_type": "code",
   "execution_count": 40,
   "metadata": {},
   "outputs": [
    {
     "data": {
      "text/html": [
       "<div>\n",
       "<style scoped>\n",
       "    .dataframe tbody tr th:only-of-type {\n",
       "        vertical-align: middle;\n",
       "    }\n",
       "\n",
       "    .dataframe tbody tr th {\n",
       "        vertical-align: top;\n",
       "    }\n",
       "\n",
       "    .dataframe thead th {\n",
       "        text-align: right;\n",
       "    }\n",
       "</style>\n",
       "<table border=\"1\" class=\"dataframe\">\n",
       "  <thead>\n",
       "    <tr style=\"text-align: right;\">\n",
       "      <th></th>\n",
       "      <th>RMSE</th>\n",
       "      <th>Время обучения</th>\n",
       "      <th>Время прогноза</th>\n",
       "    </tr>\n",
       "  </thead>\n",
       "  <tbody>\n",
       "    <tr>\n",
       "      <th>LGBM</th>\n",
       "      <td>1596.260</td>\n",
       "      <td>2.072</td>\n",
       "      <td>0.297</td>\n",
       "    </tr>\n",
       "    <tr>\n",
       "      <th>Catboost</th>\n",
       "      <td>1632.254</td>\n",
       "      <td>8.575</td>\n",
       "      <td>0.026</td>\n",
       "    </tr>\n",
       "    <tr>\n",
       "      <th>Случайный лес</th>\n",
       "      <td>1634.354</td>\n",
       "      <td>14.191</td>\n",
       "      <td>0.588</td>\n",
       "    </tr>\n",
       "    <tr>\n",
       "      <th>Дерево решений</th>\n",
       "      <td>2000.719</td>\n",
       "      <td>1.080</td>\n",
       "      <td>0.027</td>\n",
       "    </tr>\n",
       "    <tr>\n",
       "      <th>Линейная регрессия</th>\n",
       "      <td>2603.450</td>\n",
       "      <td>3.905</td>\n",
       "      <td>0.291</td>\n",
       "    </tr>\n",
       "  </tbody>\n",
       "</table>\n",
       "</div>"
      ],
      "text/plain": [
       "                        RMSE  Время обучения  Время прогноза\n",
       "LGBM                1596.260           2.072           0.297\n",
       "Catboost            1632.254           8.575           0.026\n",
       "Случайный лес       1634.354          14.191           0.588\n",
       "Дерево решений      2000.719           1.080           0.027\n",
       "Линейная регрессия  2603.450           3.905           0.291"
      ]
     },
     "execution_count": 40,
     "metadata": {},
     "output_type": "execute_result"
    }
   ],
   "source": [
    "#Найдем время обучения и предсказания без RandomizedSearchCV и кросс-валидации\n",
    "time_fit_set = []\n",
    "time_pred_set = []\n",
    "\n",
    "for i in [best_model_LightGBM,\n",
    "          best_model_catboost,\n",
    "          best_model_RF,\n",
    "          best_model_DT,\n",
    "          best_model_LR]:\n",
    "    \n",
    "    model = i\n",
    "    \n",
    "    #Обучаем и фиксируем время обучения\n",
    "    start_time_fit = timeit.default_timer()\n",
    "    if i == best_model_LR:\n",
    "        model.fit(features_train_ohe, target_train)\n",
    "    else:\n",
    "        model.fit(features_train_ord, target_train)\n",
    "    time_fit = timeit.default_timer() - start_time_fit\n",
    "    \n",
    "    #Делаем прогноз и фиксируем время прогноза\n",
    "    start_time_pred = timeit.default_timer()\n",
    "    if i == best_model_LR:\n",
    "        model.predict(features_test_ohe)\n",
    "    else:\n",
    "        model.predict(features_test_ord)\n",
    "    time_pred = timeit.default_timer() - start_time_pred\n",
    "    \n",
    "    time_fit_set.append(round(time_fit, 3))\n",
    "    time_pred_set.append(round(time_pred, 3))\n",
    "    \n",
    "pivot_model = pd.DataFrame({'RMSE' : best_score_set, \n",
    "                            'Время обучения' : time_fit_set, \n",
    "                            'Время прогноза' : time_pred_set,\n",
    "                           }, \n",
    "                            index=['LGBM', 'Catboost', 'Случайный лес', 'Дерево решений', 'Линейная регрессия'])\n",
    "\n",
    "pivot_model"
   ]
  },
  {
   "cell_type": "markdown",
   "metadata": {},
   "source": [
    "Итак, лучшей моделью признана LGBM в связи с самым небольшим временем обучения и самым малым RMSE вместе с Catboost и Случайным лесом. Теперь найдем для нее RMSE на тестовой выборке."
   ]
  },
  {
   "cell_type": "code",
   "execution_count": 41,
   "metadata": {},
   "outputs": [
    {
     "name": "stdout",
     "output_type": "stream",
     "text": [
      "RMSE тестовой выборки: 1571.926\n"
     ]
    }
   ],
   "source": [
    "#Найдем RMSE на тестовой выборке\n",
    "model = best_model_LightGBM \n",
    "model.fit(features_train_ord, target_train)\n",
    "predictions = model.predict(features_test_ord)\n",
    "rmse_test = mean_squared_error(target_test, predictions) ** 0.5\n",
    "print('RMSE тестовой выборки:', round(rmse_test, 3))"
   ]
  },
  {
   "cell_type": "code",
   "execution_count": 42,
   "metadata": {},
   "outputs": [
    {
     "name": "stdout",
     "output_type": "stream",
     "text": [
      "Итоговый RMSE константной модели составляет: 4600.596\n"
     ]
    }
   ],
   "source": [
    "#Сравним результаты тестовой модели с константной\n",
    "dummy_clf = DummyRegressor()\n",
    "dummy_clf.fit(features_train_ord, target_train)\n",
    "predict_dummy = dummy_clf.predict(features_test_ord)\n",
    "rmse_dummy = mean_squared_error(target_test, predict_dummy) ** 0.5\n",
    "print('Итоговый RMSE константной модели составляет:', rmse_dummy.round(3))"
   ]
  },
  {
   "cell_type": "markdown",
   "metadata": {},
   "source": [
    "**Выводы:**\n",
    "\n",
    "1) Выбрана лучшая модель - LightGBM; \\\n",
    "2) На тетсовой выборке **RMSE получился значительно меньше 2500 и значения RMSE на константной модели**"
   ]
  },
  {
   "cell_type": "markdown",
   "metadata": {},
   "source": [
    "## Общие выводы"
   ]
  },
  {
   "cell_type": "markdown",
   "metadata": {},
   "source": [
    "**1. Подготовка данных**:\n",
    "\n",
    "1) Вылеты устранены, пропущенные значения заполнены или удалены;\\\n",
    "2) На цену в большей степени влияет год регистрации, модель и мощность автомобиля.\n",
    "------\n",
    "\n",
    "**2. Обучение моделей**:\n",
    "\n",
    "1) 5 моделей обучены с разными гимерпараметрами с помощью RandomizedSearchCV и встроенной кросс-валидации\n",
    "* LGBM \n",
    "* Catboost \n",
    "* Случайный лес \n",
    "* Дерево решений \n",
    "* Линейная регрессия\n",
    "\n",
    "2) Выбраны лучшие модели по значению RMSE. Для моделей LGBM, Catboost, Случайный лес и Дерево решений **RMSE получился значительно меньше 2500**\n",
    "\n",
    "------\n",
    "\n",
    "**3. Анализ моделей**:\n",
    "\n",
    "1) Выбрана лучшая модель - LightGBM; \\\n",
    "2) На тетсовой выборке **RMSE получился значительно меньше 2500 и значения RMSE на константной модели**"
   ]
  }
 ],
 "metadata": {
  "ExecuteTimeLog": [
   {
    "duration": 22,
    "start_time": "2023-06-08T05:55:38.265Z"
   },
   {
    "duration": 5688,
    "start_time": "2023-06-08T06:00:12.726Z"
   },
   {
    "duration": 10162,
    "start_time": "2023-06-08T06:00:18.417Z"
   },
   {
    "duration": 2533,
    "start_time": "2023-06-08T06:00:28.588Z"
   },
   {
    "duration": 2543,
    "start_time": "2023-06-08T06:00:31.124Z"
   },
   {
    "duration": 1522,
    "start_time": "2023-06-08T06:00:33.670Z"
   },
   {
    "duration": 4,
    "start_time": "2023-06-08T06:00:35.194Z"
   },
   {
    "duration": 1238,
    "start_time": "2023-06-08T06:00:35.200Z"
   },
   {
    "duration": 22,
    "start_time": "2023-06-08T06:00:36.440Z"
   },
   {
    "duration": 1952,
    "start_time": "2023-06-08T06:00:36.464Z"
   },
   {
    "duration": 114,
    "start_time": "2023-06-08T06:00:38.419Z"
   },
   {
    "duration": 16,
    "start_time": "2023-06-08T06:00:38.536Z"
   },
   {
    "duration": 595,
    "start_time": "2023-06-08T06:00:38.554Z"
   },
   {
    "duration": 8,
    "start_time": "2023-06-08T06:00:39.151Z"
   },
   {
    "duration": 44,
    "start_time": "2023-06-08T06:00:39.178Z"
   },
   {
    "duration": 29,
    "start_time": "2023-06-08T06:00:39.224Z"
   },
   {
    "duration": 55,
    "start_time": "2023-06-08T06:00:39.254Z"
   },
   {
    "duration": 97,
    "start_time": "2023-06-08T06:00:39.310Z"
   },
   {
    "duration": 124,
    "start_time": "2023-06-08T06:00:39.409Z"
   },
   {
    "duration": 4834,
    "start_time": "2023-06-08T06:00:39.535Z"
   },
   {
    "duration": 12919,
    "start_time": "2023-06-08T06:00:44.371Z"
   },
   {
    "duration": 5,
    "start_time": "2023-06-08T06:00:57.293Z"
   },
   {
    "duration": 845,
    "start_time": "2023-06-08T06:00:57.300Z"
   },
   {
    "duration": 206,
    "start_time": "2023-06-08T06:00:58.148Z"
   },
   {
    "duration": 1545,
    "start_time": "2023-06-08T06:00:58.356Z"
   },
   {
    "duration": 6,
    "start_time": "2023-06-08T06:00:59.902Z"
   },
   {
    "duration": 22974,
    "start_time": "2023-06-08T06:00:59.910Z"
   },
   {
    "duration": 152,
    "start_time": "2023-06-08T06:01:22.887Z"
   },
   {
    "duration": 19247,
    "start_time": "2023-06-08T06:01:23.043Z"
   },
   {
    "duration": 125,
    "start_time": "2023-06-08T06:01:42.292Z"
   },
   {
    "duration": 1123,
    "start_time": "2023-06-08T06:01:42.419Z"
   },
   {
    "duration": 5997,
    "start_time": "2023-06-08T06:01:43.544Z"
   },
   {
    "duration": 99,
    "start_time": "2023-06-08T06:01:49.543Z"
   },
   {
    "duration": 431,
    "start_time": "2023-06-08T06:02:06.624Z"
   },
   {
    "duration": 21,
    "start_time": "2023-06-08T06:02:12.800Z"
   },
   {
    "duration": 518,
    "start_time": "2023-06-08T06:02:36.167Z"
   }
  ],
  "kernelspec": {
   "display_name": "Python 3 (ipykernel)",
   "language": "python",
   "name": "python3"
  },
  "language_info": {
   "codemirror_mode": {
    "name": "ipython",
    "version": 3
   },
   "file_extension": ".py",
   "mimetype": "text/x-python",
   "name": "python",
   "nbconvert_exporter": "python",
   "pygments_lexer": "ipython3",
   "version": "3.9.13"
  },
  "toc": {
   "base_numbering": 1,
   "nav_menu": {},
   "number_sections": true,
   "sideBar": true,
   "skip_h1_title": true,
   "title_cell": "Table of Contents",
   "title_sidebar": "Contents",
   "toc_cell": false,
   "toc_position": {},
   "toc_section_display": true,
   "toc_window_display": false
  }
 },
 "nbformat": 4,
 "nbformat_minor": 2
}
